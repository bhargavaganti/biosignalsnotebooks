{
 "cells": [
  {
   "cell_type": "markdown",
   "metadata": {
    "tags": [
     "intro_info_title"
    ]
   },
   "source": [
    "<link rel=\"stylesheet\" href=\"../../styles/theme_style.css\">\n",
    "<!--link rel=\"stylesheet\" href=\"../../styles/header_style.css\"-->\n",
    "<link rel=\"stylesheet\" href=\"https://cdnjs.cloudflare.com/ajax/libs/font-awesome/4.7.0/css/font-awesome.min.css\">\n",
    "\n",
    "<table width=\"100%\">\n",
    "    <tr>\n",
    "        <td id=\"image_td\" width=\"15%\" class=\"header_image_color_4\"><div id=\"image_img\" class=\"header_image_4\"></div></td>\n",
    "        <td class=\"header_text\">ACC Sensor - Unit Conversion </td>\n",
    "    </tr>\n",
    "</table>"
   ]
  },
  {
   "cell_type": "markdown",
   "metadata": {
    "tags": [
     "intro_info_tags"
    ]
   },
   "source": [
    "<div id=\"flex-container\">\n",
    "    <div id=\"diff_level\" class=\"flex-item\">\n",
    "        <strong>Difficulty Level:</strong>   <span class=\"fa fa-star checked\"></span>\n",
    "                                <span class=\"fa fa-star\"></span>\n",
    "                                <span class=\"fa fa-star\"></span>\n",
    "                                <span class=\"fa fa-star\"></span>\n",
    "                                <span class=\"fa fa-star\"></span>\n",
    "    </div>\n",
    "    <div id=\"tag\" class=\"flex-item-tag\">\n",
    "        <span id=\"tag_list\">\n",
    "            <table id=\"tag_list_table\">\n",
    "                <tr>\n",
    "                    <td class=\"shield_left\">Tags</td>\n",
    "                    <td class=\"shield_right\" id=\"tags\">pre-process&#9729;ACC&#9729;conversion</td> \n",
    "                </tr>\n",
    "            </table>\n",
    "        </span>\n",
    "        <!-- [OR] Visit https://img.shields.io in order to create a tag badge-->\n",
    "    </div>\n",
    "</div>"
   ]
  },
  {
   "cell_type": "markdown",
   "metadata": {},
   "source": [
    "The <strong><span class=\"color2\">OpenSignals</span></strong> outputted file formats contain raw data, so each sample has a digital unit.\n",
    "\n",
    "In scientific terms it is recommended the use of specific units, like electric tension (V) or electric current (A).\n",
    "Each sensor that PLUX commercialise has a datasheet where a transfer function is mentioned for unit conversion be done.\n",
    "\n",
    "The next lines are intended to explain how this conversion can be programmatically done.\n",
    "\n",
    "In spite of the unit conversion procedure has some common steps applicable to all sensors, the current <strong><span class=\"color5\">Jupyter Notebook</span></strong> is dedicated to the unit conversion procedure of signals acquired with Accelerometer sensor."
   ]
  },
  {
   "cell_type": "markdown",
   "metadata": {},
   "source": [
    "<p class=\"steps\">1 - Importation of the needed packages</p>"
   ]
  },
  {
   "cell_type": "code",
   "execution_count": null,
   "metadata": {
    "tags": [
     "hide_out"
    ]
   },
   "outputs": [],
   "source": [
    "# biosignalsnotebooks Python package with useful functions that support and complement the available Notebooks\n",
    "import biosignalsnotebooks as bsnb\n",
    "\n",
    "# Function used for creating a numpy array, where a mathematical operation can be applied to each entry in an easy and automatic way. On the other side, linspace, here will be used for generation of a time-axis.\n",
    "from numpy import array, linspace"
   ]
  },
  {
   "cell_type": "markdown",
   "metadata": {},
   "source": [
    "<p class=\"steps\">2 - Download of the sensor datasheet (from <a href=\"https://biosignalsplux.com/index.php/learn/documentation\">https://biosignalsplux.com/index.php/learn/documentation</a>). In this case we are working with ACC, being our file located at <a href=\"https://plux.info/datasheets/ACC_Sensor_Datasheet.pdf\">https://plux.info/datasheets/ACC_Sensor_Datasheet.pdf</a> </p>"
   ]
  },
  {
   "cell_type": "code",
   "execution_count": null,
   "metadata": {
    "tags": [
     "hide_in"
    ]
   },
   "outputs": [],
   "source": [
    "# Embedding of .pdf file\n",
    "from IPython.display import IFrame\n",
    "IFrame('../../images/pre-process/unit_conversion_ACC/ACC_Sensor_Datasheet.pdf#page=2', width=\"100%\", height=\"350\")"
   ]
  },
  {
   "cell_type": "markdown",
   "metadata": {},
   "source": [
    "<p class=\"steps\">3 - Extraction of the transfer function from the beginning of the second page</p> "
   ]
  },
  {
   "cell_type": "markdown",
   "metadata": {},
   "source": [
    "\\begin{equation}\n",
    "ACC{(g)} = \\frac{ADC-{C_{min}}}{{C_{max}}-{C_{min}}}\\times{2}-{1}\n",
    "\\end{equation}\n",
    "\n",
    "<table width=\"100%\">\n",
    "    <tr>\n",
    "        <td width=\"25%\" style=\"text-align:left;vertical-align:top\">$ACC{(g)}$ - ACC value in g-force (g)</td>\n",
    "        <td width=\"25%\" style=\"text-align:left;vertical-align:top\">$ADC$ - Value sampled from the acquisition channel</td>\n",
    "        <td width=\"25%\" style=\"text-align:left;vertical-align:top\">$C_{min}$ - Minimum calibration value</td>\n",
    "        <td width=\"25%\" style=\"text-align:left;vertical-align:top\">$C_{max}$ - Maximum calibration value </td>\n",
    "\n",
    "</table>"
   ]
  },
  {
   "cell_type": "markdown",
   "metadata": {},
   "source": [
    "Quoting the description available on the sensor datasheet:\n",
    "\n",
    "<i>This sensor requires a calibration to provide reliable measurements. The resulting calibration values ($C_{min}$ and $C_{max}$) which are needed for the transfer function are determined by performing a very slow 360º rotation of the sensor around each axis to force the accelerometer to cross the gravity-imposed −1g and 1g</i>\n",
    "\n",
    "So, $C_{min}$ and $C_{max}$ are the minimum and maximum RAW values registered on each channel during the calibration procedure."
   ]
  },
  {
   "cell_type": "markdown",
   "metadata": {},
   "source": [
    "<p class=\"steps\">4 - Loading of data stored in <strong><span class=\"color2\">biosignalsnotebooks</span></strong> own signal library</p> "
   ]
  },
  {
   "cell_type": "code",
   "execution_count": null,
   "metadata": {},
   "outputs": [],
   "source": [
    "# Data loading\n",
    "data, header = bsnb.load_signal(\"https://drive.google.com/open?id=1Tky7YNZ95VkFN3F2rxM6Fwf_x2YTMYmx\", get_header=True)"
   ]
  },
  {
   "cell_type": "markdown",
   "metadata": {},
   "source": [
    "In the following cell, some relevant information is stored inside variables. This relevant information includes the mac-address of the device, channel number and signal acquisition parameters such as resolution and sampling rate.\n",
    "\n",
    "For a detailed explanation of how to access this info, the <a href=\"../Load/signal_loading_preparatory_steps.ipynb\" target=\"_blank\">\"Signal Loading - Working with File Header\"<img src=\"../../images/icons/link.png\" width=\"10px\" height=\"10px\" style=\"display:inline\"></a> Notebook should be consulted."
   ]
  },
  {
   "cell_type": "code",
   "execution_count": null,
   "metadata": {},
   "outputs": [],
   "source": [
    "ch_X= \"CH1\" # Channel (X-axis)\n",
    "ch_Y = \"CH2\" # Channel (Y-axis)\n",
    "ch_Z= \"CH3\"# Channel (Z-axis)\n",
    "sr = 1000 # Sampling rate\n",
    "resolution = 16 # Resolution (number of available bits)"
   ]
  },
  {
   "cell_type": "markdown",
   "metadata": {},
   "source": [
    "For our specific case (16 bits acquisition), the calibration values ($C_{min}$ and $C_{max}$) are:"
   ]
  },
  {
   "cell_type": "code",
   "execution_count": null,
   "metadata": {},
   "outputs": [],
   "source": [
    "c_min = 28000\n",
    "c_max = 38000"
   ]
  },
  {
   "cell_type": "markdown",
   "metadata": {},
   "source": [
    "Access to acquired signal samples and storage inside a new variable."
   ]
  },
  {
   "cell_type": "code",
   "execution_count": null,
   "metadata": {},
   "outputs": [],
   "source": [
    "signal_X = data[ch_X]\n",
    "signal_Y = data[ch_Y]\n",
    "signal_Z = data[ch_Z]"
   ]
  },
  {
   "cell_type": "markdown",
   "metadata": {},
   "source": [
    "<p class=\"steps\">5 - Final unit conversion (to <span class=\"color5\">g</span>) by applying the transfer function sample by sample</p>"
   ]
  },
  {
   "cell_type": "code",
   "execution_count": null,
   "metadata": {},
   "outputs": [],
   "source": [
    "signal_X_ = ((array(signal_X) - c_min) / (c_max - c_min)) * 2 - 1\n",
    "signal_Y_= ((array(signal_Y) - c_min) / (c_max - c_min)) * 2 - 1\n",
    "signal_Z_ = ((array(signal_Z) - c_min) / (c_max - c_min)) * 2 - 1"
   ]
  },
  {
   "cell_type": "markdown",
   "metadata": {},
   "source": [
    "<p class=\"steps\">6 - Time axis generation</p>"
   ]
  },
  {
   "cell_type": "code",
   "execution_count": null,
   "metadata": {},
   "outputs": [],
   "source": [
    "time = bsnb.generate_time(signal_X_, sr)"
   ]
  },
  {
   "cell_type": "markdown",
   "metadata": {},
   "source": [
    "Comparison between RAW and mV signal."
   ]
  },
  {
   "cell_type": "code",
   "execution_count": null,
   "metadata": {
    "tags": [
     "hide_in"
    ]
   },
   "outputs": [],
   "source": [
    "bsnb.plot([time, time,time,time, time,time], [signal_X, signal_X_,signal_Y,signal_Y_, signal_Z,signal_Z_], y_axis_label=[\"Raw Data\", \"Acceleration (g)\", \"Raw Data\", \"Acceleration (g)\",\"Raw Data\", \"Acceleration (g)\"], title=[\"X Channel (Raw)\", \"X Channel (g)\", \"Y Channel (Raw)\", \"Y Channel (g)\", \"Z Channel(RAW)\",\"Z Channel(g)\"], grid_lines=3, grid_columns=2, grid_plot=True)"
   ]
  },
  {
   "cell_type": "markdown",
   "metadata": {},
   "source": [
    "<strong><span class=\"color2\">Similar Notebooks</span>, dedicated to the unit conversion of other sensors, are available in the following \"conversion\" section of <a href=\"../MainFiles/by_tag.ipynb\">Notebooks Grouped by Tag page<img src=\"../../images/icons/link.png\" width=\"10px\" height=\"10px\" style=\"display:inline\"></a> </span></strong>"
   ]
  },
  {
   "cell_type": "markdown",
   "metadata": {
    "tags": [
     "hide_mark",
     "aux"
    ]
   },
   "source": [
    "<span class=\"color6\">**Auxiliary Code Segment (should not be replicated by the user)**</span>"
   ]
  },
  {
   "cell_type": "code",
   "execution_count": null,
   "metadata": {
    "tags": [
     "hide_both"
    ]
   },
   "outputs": [],
   "source": [
    "from biosignalsnotebooks.__notebook_support__ import css_style_apply\n",
    "css_style_apply()"
   ]
  },
  {
   "cell_type": "code",
   "execution_count": null,
   "metadata": {
    "tags": [
     "hide_both"
    ]
   },
   "outputs": [],
   "source": [
    "%%html\n",
    "<script>\n",
    "    // AUTORUN ALL CELLS ON NOTEBOOK-LOAD!\n",
    "    require(\n",
    "        ['base/js/namespace', 'jquery'], \n",
    "        function(jupyter, $) {\n",
    "            $(jupyter.events).on(\"kernel_ready.Kernel\", function () {\n",
    "                console.log(\"Auto-running all cells-below...\");\n",
    "                jupyter.actions.call('jupyter-notebook:run-all-cells-below');\n",
    "                jupyter.actions.call('jupyter-notebook:save-notebook');\n",
    "            });\n",
    "        }\n",
    "    );\n",
    "</script>"
   ]
  }
 ],
 "metadata": {
  "celltoolbar": "Tags",
  "kernelspec": {
   "display_name": "Python 3",
   "language": "python",
   "name": "python3"
  },
  "language_info": {
   "codemirror_mode": {
    "name": "ipython",
    "version": 3
   },
   "file_extension": ".py",
   "mimetype": "text/x-python",
   "name": "python",
   "nbconvert_exporter": "python",
   "pygments_lexer": "ipython3",
   "version": "3.7.6"
  }
 },
 "nbformat": 4,
 "nbformat_minor": 2
}
