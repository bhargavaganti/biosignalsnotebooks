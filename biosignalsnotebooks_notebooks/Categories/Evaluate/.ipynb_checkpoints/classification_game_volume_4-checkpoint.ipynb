{
 "cells": [
  {
   "cell_type": "markdown",
   "metadata": {
    "tags": [
     "intro_info_title"
    ]
   },
   "source": [
    "<link rel=\"stylesheet\" href=\"../../styles/theme_style.css\">\n",
    "<!--link rel=\"stylesheet\" href=\"../../styles/header_style.css\"-->\n",
    "<link rel=\"stylesheet\" href=\"https://cdnjs.cloudflare.com/ajax/libs/font-awesome/4.7.0/css/font-awesome.min.css\">\n",
    "\n",
    "<table width=\"100%\">\n",
    "    <tr>\n",
    "        <td id=\"image_td\" width=\"15%\" class=\"header_image_color_12\"><div id=\"image_img\"\n",
    "        class=\"header_image_12\"></div></td>\n",
    "        <td class=\"header_text\"> Rock, Paper or Scissor Game - Train and Classify [Volume 4] </td>\n",
    "    </tr>\n",
    "</table>"
   ]
  },
  {
   "cell_type": "markdown",
   "metadata": {
    "tags": [
     "intro_info_tags"
    ]
   },
   "source": [
    "<div id=\"flex-container\">\n",
    "    <div id=\"diff_level\" class=\"flex-item\">\n",
    "        <strong>Difficulty Level:</strong>   <span class=\"fa fa-star checked\"></span>\n",
    "                                <span class=\"fa fa-star checked\"></span>\n",
    "                                <span class=\"fa fa-star\"></span>\n",
    "                                <span class=\"fa fa-star\"></span>\n",
    "                                <span class=\"fa fa-star\"></span>\n",
    "    </div>\n",
    "    <div id=\"tag\" class=\"flex-item-tag\">\n",
    "        <span id=\"tag_list\">\n",
    "            <table id=\"tag_list_table\">\n",
    "                <tr>\n",
    "                    <td class=\"shield_left\">Tags</td>\n",
    "                    <td class=\"shield_right\" id=\"tags\">evaluate&#9729;machine-learning&#9729;features&#9729;quality&#9729;cross-validation</td>\n",
    "                </tr>\n",
    "            </table>\n",
    "        </span>\n",
    "        <!-- [OR] Visit https://img.shields.io in order to create a tag badge-->\n",
    "    </div>\n",
    "</div>"
   ]
  },
  {
   "cell_type": "markdown",
   "metadata": {
    "tags": [
     "test"
    ]
   },
   "source": [
    "<span class=\"color4\"><strong>Previous Notebooks that are part of \"Rock, Paper or Scissor Game - Train and Classify\" module</strong></span>\n",
    "<ul>\n",
    "    <li><a href=\"../Train_And_Classify/classification_game_volume_1.ipynb\"><strong>Rock, Paper or Scissor Game - Train and Classify [Volume 1] | Experimental Setup <img src=\"../../images/icons/link.png\" width=\"10px\" height=\"10px\" style=\"display:inline\"></strong></a></li>\n",
    "    <li><a href=\"../Train_And_Classify/classification_game_volume_2.ipynb\"><strong>Rock, Paper or Scissor Game - Train and Classify [Volume 2] | Feature Extraction <img src=\"../../images/icons/link.png\" width=\"10px\" height=\"10px\" style=\"display:inline\"></strong></a></li>\n",
    "    <li><a href=\"../Train_And_Classify/classification_game_volume_3.ipynb\"><strong>Rock, Paper or Scissor Game - Train and Classify [Volume 3] | Training a Classifier <img src=\"../../images/icons/link.png\" width=\"10px\" height=\"10px\" style=\"display:inline\"></strong></a></li>\n",
    "</ul> \n",
    "\n",
    "<table width=\"100%\">\n",
    "    <tr>\n",
    "        <td style=\"text-align:left;font-size:12pt;border-top:dotted 2px #62C3EE\">\n",
    "            <span class=\"color1\">&#9740;</span> In order to ensure that our classification system is functional we need to evaluate it in an objective way.\n",
    "            <br>\n",
    "            At our final volume (current <span class=\"color4\"><strong>Jupyter Notebook</strong></span>) an evaluation methodology will be described taking into consideration a particular cross-validation technique.\n",
    "        </td>\n",
    "    </tr>\n",
    "</table>\n",
    "<hr>"
   ]
  },
  {
   "cell_type": "markdown",
   "metadata": {},
   "source": [
    "<p style=\"font-size:20pt;color:#62C3EE;padding-bottom:5pt\">Performance Evaluation</p>\n",
    "<strong>Brief Intro</strong>\n",
    "<br>\n",
    "When implementing a classification system it is considered to be extremely important to have an objective understanding of how said system would behave when interacting with new testing examples.\n",
    "\n",
    "A classifier should function correctly when the testing examples are very similar to the training examples. However, if there is a testing example with characteristics that are somewhat disparate, the robustness of the system will be challenged.\n",
    "\n",
    "Thus, what makes a classifier robust is his capacity to establish correspondences even when the similarities are more tenuous.\n",
    "To estimate the quality of the implemented system, there were different methods to be followed, namely <span class=\"color1\"><strong>Cross-Layer Estimation</strong></span> and <span class=\"color13\"><strong>Leave One Out</strong></span> (see an <a href=\"https://www.cs.cmu.edu/~schneide/tut5/node42.html\">external reference <img src=\"../../images/icons/link.png\" width=\"10px\" height=\"10px\" style=\"display:inline\"></a>).\n",
    "\n",
    "In <span class=\"color1\"><strong>Cross-Layer Estimation</strong></span> the training set is divided into $N$ subsets with approximately the same number of examples. Using <i>N&#8722;1</i> iterations, each of the $N$ subsets acquires the role of testing set, while the remaining <i>N&#8722;1</i> subsets are used to train a \"partial\" classifier. Finally, an estimate of the error of the original classifier is obtained through the partial errors of the <i>N&#8722;1</i> partial classifiers.\n",
    "\n",
    "One particular cross-validation strategy is: <strong><a href=\"https://en.wikipedia.org/wiki/Cross-validation_(statistics)#k-fold_cross-validation\">k-fold Cross-Validation<img src=\"../../images/icons/link.png\" width=\"10px\" height=\"10px\" style=\"display:inline\"></a></strong>.\n",
    "\n",
    "Relatively to the <span class=\"color13\"><strong>Leave One Out</strong></span> method, it is a particular case of cross-layer estimation. It involves creating a number of partial classifiers which is equal to the number of training examples. In each iteration, one training example assumes the role of testing example, while the rest are used to train the \"partial\" classifier.\n",
    "\n",
    "This last methodology is particularly useful when the training set is small, taking into consideration that it will be very expensive on big training sets.\n",
    "\n",
    "Fortunately there are built-in function on <a href=\"https://scikit-learn.org/stable/index.html\">scikit-learn <img src=\"../../images/icons/link.png\" width=\"10px\" height=\"10px\" style=\"display:inline\"></a>, which will be applied in the current <span class=\"color4\"><strong>Jupyter Notebook</strong></span>."
   ]
  },
  {
   "cell_type": "markdown",
   "metadata": {},
   "source": [
    "<p class=\"steps\">0 - Import of the needed packages for a correct execution of the current <span class=\"color4\">Jupyter Notebook</span></p>"
   ]
  },
  {
   "cell_type": "code",
   "execution_count": null,
   "metadata": {
    "tags": [
     "hide_out"
    ]
   },
   "outputs": [],
   "source": [
    "# Python package that contains functions specialised on \"Machine Learning\" tasks.\n",
    "from sklearn.neighbors import KNeighborsClassifier\n",
    "from sklearn.model_selection import cross_val_score, LeaveOneOut\n",
    "\n",
    "# biosignalsnotebooks own package that supports some functionalities used on the Jupyter Notebooks.\n",
    "import biosignalsnotebooks as bsnb\n",
    "\n",
    "# Package containing a diversified set of function for statistical processing and also provide support to array operations.\n",
    "from numpy import array"
   ]
  },
  {
   "cell_type": "markdown",
   "metadata": {},
   "source": [
    "<p class=\"steps\">1 - Replicate the training procedure of <a href=\"../Train_And_Classify/classification_game_volume_3.ipynb\"><span class=\"color4\">Volume 3 of \"Classification Game\" Jupyter Notebook <img src=\"../../images/icons/link.png\" width=\"10px\" height=\"10px\" style=\"display:inline\"></span></a></p>\n",
    "<p class=\"steps\">1.1 - Load of all the extracted features from our training data </p>\n",
    "<span class=\"color13\" style=\"font-size:30px\">&#9888;</span> This step was done internally !!! For now don't be worried about that, remember only that a dictionary (called <span class=\"color7\"><strong>\"features_class_dict\"</strong></span>), with the list of all features values and classes of training examples, is available from <a href=\"../Train_And_Classify/classification_game_volume_3.ipynb\"><span class=\"color4\">Volume 3 of \"Classification Game\" Jupyter Notebook <img src=\"../../images/icons/link.png\" width=\"10px\" height=\"10px\" style=\"display:inline\"></span></a>"
   ]
  },
  {
   "cell_type": "code",
   "execution_count": null,
   "metadata": {
    "tags": [
     "hide_in"
    ]
   },
   "outputs": [],
   "source": [
    "# Package dedicated to the manipulation of json files.\n",
    "from json import loads\n",
    "\n",
    "# Specification of filename and relative path.\n",
    "relative_path = \"../../signal_samples/classification_game/features\"\n",
    "filename = \"classification_game_features_final.json\"\n",
    "\n",
    "# Load of data inside file, storing it inside a Python dictionary.\n",
    "with open(relative_path + \"/\" + filename) as file:\n",
    "    features_class_dict = loads(file.read())"
   ]
  },
  {
   "cell_type": "markdown",
   "metadata": {},
   "source": [
    "<span class=\"color4\"><strong>List of Dictionary keys</strong></span>"
   ]
  },
  {
   "cell_type": "code",
   "execution_count": null,
   "metadata": {},
   "outputs": [],
   "source": [
    "features_class_dict.keys()"
   ]
  },
  {
   "cell_type": "markdown",
   "metadata": {},
   "source": [
    "<p class=\"steps\">1.2 - Storage of dictionary content into separate variables </p>"
   ]
  },
  {
   "cell_type": "code",
   "execution_count": null,
   "metadata": {},
   "outputs": [],
   "source": [
    "features_list = features_class_dict[\"features_list_final\"]\n",
    "class_training_examples = features_class_dict[\"class_labels\"]"
   ]
  },
  {
   "cell_type": "markdown",
   "metadata": {},
   "source": [
    "<p class=\"steps\">1.3 - Let's select two sets of features. Set A will be identical to the one used on <a href=\"../Train_And_Classify/classification_game_volume_3.ipynb\"><span class=\"color4\">Volume 3 of \"Classification Game\" Jupyter Notebook <img src=\"../../images/icons/link.png\" width=\"10px\" height=\"10px\" style=\"display:inline\"></span></a>, while set B is a more restricted one, formed by three features (one from each used sensor)</p>"
   ]
  },
  {
   "cell_type": "markdown",
   "metadata": {},
   "source": [
    "<span class=\"color1\"><strong>Set of Features A</strong></span>\n",
    "<ul>\n",
    "    <li>$\\sigma_{emg\\,flexor}$</li>\n",
    "    <li>$zcr_{emg\\,flexor}$</li>\n",
    "    <li>$\\sigma_{emg\\,flexor}^{abs}$</li>\n",
    "    <li>$\\sigma_{emg\\,adductor}$</li>\n",
    "    <li>$\\sigma_{emg\\,adductor}^{abs}$</li>\n",
    "    <li>$\\sigma_{acc\\,z}$</li>\n",
    "    <li>$max_{acc\\,z}$</li>\n",
    "    <li>$m_{acc\\,z}$</li>\n",
    "</ul>\n",
    "\n",
    "\\[$\\sigma_{emg\\,flexor}$, $max_{emg\\,flexor}$, $zcr_{emg\\,flexor}$, $\\sigma_{emg\\,flexor}^{abs}$, $\\sigma_{emg\\,adductor}$, $max_{emg\\,adductor}$, $zcr_{emg\\,adductor}$, $\\sigma_{emg\\,adductor}^{abs}$, $\\mu_{acc\\,z}$, $\\sigma_{acc\\,z}$, $max_{acc\\,z}$, $zcr_{acc\\,z}$, $m_{acc\\,z}$\\] \n",
    "\n",
    "= \\[True, False, True, True, True, False, False, True, False, True, True, False, True\\] <span class=\"color1\">(List of entries that contain relevant features are flagged with \"True\")</span>"
   ]
  },
  {
   "cell_type": "code",
   "execution_count": null,
   "metadata": {},
   "outputs": [],
   "source": [
    "# Access each training example and exclude meaningless entries.\n",
    "# Entries that we want to keep are marked with \"True\" flag.\n",
    "acception_labels_a = [True, False, True, True, True, False, \n",
    "                      False, True, False, True, True, False, True]\n",
    "training_examples_a = []\n",
    "for example_nbr in range(0, len(features_list)):\n",
    "    training_examples_a += [list(array(features_list[example_nbr])[array(acception_labels_a)])]"
   ]
  },
  {
   "cell_type": "markdown",
   "metadata": {},
   "source": [
    "<span class=\"color7\"><strong>Set of Features B</strong></span> (one random feature from each sensor, i.e, a set with 3 features)\n",
    "<ul>\n",
    "    <li>$zcr_{emg\\,flexor}$</li>\n",
    "    <li>$\\sigma_{emg\\,adductor}$</li>\n",
    "    <li>$m_{acc\\,z}$</li>\n",
    "</ul>\n",
    "\n",
    "\\[$\\sigma_{emg\\,flexor}$, $max_{emg\\,flexor}$, $zcr_{emg\\,flexor}$, $\\sigma_{emg\\,flexor}^{abs}$, $\\sigma_{emg\\,adductor}$, $max_{emg\\,adductor}$, $zcr_{emg\\,adductor}$, $\\sigma_{emg\\,adductor}^{abs}$, $\\mu_{acc\\,z}$, $\\sigma_{acc\\,z}$, $max_{acc\\,z}$, $zcr_{acc\\,z}$, $m_{acc\\,z}$\\] \n",
    "\n",
    "= \\[False, True, False, False, True, False, False, False, False, False, False, False, True\\] <span class=\"color7\">(List entries that contain relevant features are flagged with \"True\")</span>"
   ]
  },
  {
   "cell_type": "code",
   "execution_count": null,
   "metadata": {},
   "outputs": [],
   "source": [
    "# Access each training example and exclude meaningless entries.\n",
    "# Entries that we want to keep are marked with \"True\" flag.\n",
    "acception_labels_b = [False, True, False, False, True, False, False, False, False, False, False, False, True]\n",
    "training_examples_b = []\n",
    "for example_nbr in range(0, len(features_list)):\n",
    "    training_examples_b += [list(array(features_list[example_nbr])[array(acception_labels_b)])]"
   ]
  },
  {
   "cell_type": "markdown",
   "metadata": {},
   "source": [
    "<p class=\"steps\">1.4 - Two classifiers will be trained, using the features contained inside the two previous sets of features</p>"
   ]
  },
  {
   "cell_type": "markdown",
   "metadata": {},
   "source": [
    "<span class=\"color1\"><strong>Set of Features A</strong></span>"
   ]
  },
  {
   "cell_type": "code",
   "execution_count": null,
   "metadata": {},
   "outputs": [],
   "source": [
    "# k-Nearest Neighbour object initialisation.\n",
    "knn_classifier_a = KNeighborsClassifier()\n",
    "\n",
    "# Fit model to data.\n",
    "knn_classifier_a.fit(training_examples_a, class_training_examples) "
   ]
  },
  {
   "cell_type": "markdown",
   "metadata": {},
   "source": [
    "<span class=\"color7\"><strong>Set of Features B</strong></span>"
   ]
  },
  {
   "cell_type": "code",
   "execution_count": null,
   "metadata": {},
   "outputs": [],
   "source": [
    "# k-Nearest Neighbour object initialisation.\n",
    "knn_classifier_b = KNeighborsClassifier()\n",
    "\n",
    "# Fit model to data.\n",
    "knn_classifier_b.fit(training_examples_b, class_training_examples) "
   ]
  },
  {
   "cell_type": "markdown",
   "metadata": {},
   "source": [
    "<p class=\"steps\">2 - Usage of \"cross_val_score\" function of <a href=\"https://scikit-learn.org/stable/index.html\">scikit-learn <img src=\"../../images/icons/link.png\" width=\"10px\" height=\"10px\" style=\"display:inline\"></a> package</p>\n",
    "With this function it will be possible to specify a cross-validation method in order to the performance of our classification system can be accessed. In the current <span class=\"color4\"><strong>Jupyter Notebook</strong></span> it will be used one of the previously described cross-validation methods:\n",
    "<ul>\n",
    "    <li><span class=\"color13\"><strong>Leave One Out</strong></span></li>\n",
    "</ul>"
   ]
  },
  {
   "cell_type": "markdown",
   "metadata": {},
   "source": [
    "<p class=\"steps\">2.1 - Classifier trained with <span class=\"color1\"><strong>Set of Features A</strong></span></p>"
   ]
  },
  {
   "cell_type": "code",
   "execution_count": null,
   "metadata": {},
   "outputs": [],
   "source": [
    "leave_one_out_score_a = cross_val_score(knn_classifier_a, training_examples_a, class_training_examples, scoring=\"accuracy\", cv=LeaveOneOut())\n",
    "\n",
    "# Average accuracy of classifier.\n",
    "mean_l1o_score_a = leave_one_out_score_a.mean()\n",
    "\n",
    "# Standard Deviation of the previous estimate.\n",
    "std_l1o_score_a = leave_one_out_score_a.std()"
   ]
  },
  {
   "cell_type": "code",
   "execution_count": null,
   "metadata": {
    "tags": [
     "hide_in"
    ]
   },
   "outputs": [],
   "source": [
    "from sty import fg, rs\n",
    "print(fg(232,77,14) + \"\\033[1mAverage Accuracy of Classifier:\\033[0m\" + fg.rs)\n",
    "print(str(mean_l1o_score_a * 100) + \" %\")\n",
    "\n",
    "print(fg(98,195,238) + \"\\033[1mStandard Deviation:\\033[0m\" + fg.rs)\n",
    "print(\"+-\" + str(round(std_l1o_score_a, 1) * 100) + \" %\")"
   ]
  },
  {
   "cell_type": "markdown",
   "metadata": {},
   "source": [
    "<p class=\"steps\">2.2 - Classifier trained with <span class=\"color7\"><strong>Set of Features B</strong></span></p>"
   ]
  },
  {
   "cell_type": "code",
   "execution_count": 2,
   "metadata": {},
   "outputs": [
    {
     "ename": "NameError",
     "evalue": "name 'cross_val_score' is not defined",
     "output_type": "error",
     "traceback": [
      "\u001b[1;31m---------------------------------------------------------------------------\u001b[0m",
      "\u001b[1;31mNameError\u001b[0m                                 Traceback (most recent call last)",
      "\u001b[1;32m<ipython-input-2-8a473cd7830e>\u001b[0m in \u001b[0;36m<module>\u001b[1;34m\u001b[0m\n\u001b[1;32m----> 1\u001b[1;33m leave_one_out_score_b = cross_val_score(knn_classifier_b, training_examples_b, class_training_examples, \n\u001b[0m\u001b[0;32m      2\u001b[0m                                         scoring=\"accuracy\", cv=LeaveOneOut())\n\u001b[0;32m      3\u001b[0m \u001b[1;33m\u001b[0m\u001b[0m\n\u001b[0;32m      4\u001b[0m \u001b[1;31m# Average accuracy of classifier.\u001b[0m\u001b[1;33m\u001b[0m\u001b[1;33m\u001b[0m\u001b[1;33m\u001b[0m\u001b[0m\n\u001b[0;32m      5\u001b[0m \u001b[0mmean_l1o_score_b\u001b[0m \u001b[1;33m=\u001b[0m \u001b[0mleave_one_out_score_b\u001b[0m\u001b[1;33m.\u001b[0m\u001b[0mmean\u001b[0m\u001b[1;33m(\u001b[0m\u001b[1;33m)\u001b[0m\u001b[1;33m\u001b[0m\u001b[1;33m\u001b[0m\u001b[0m\n",
      "\u001b[1;31mNameError\u001b[0m: name 'cross_val_score' is not defined"
     ]
    }
   ],
   "source": [
    "leave_one_out_score_b = cross_val_score(knn_classifier_b, training_examples_b, class_training_examples, \n",
    "                                        scoring=\"accuracy\", cv=LeaveOneOut())\n",
    "\n",
    "# Average accuracy of classifier.\n",
    "mean_l1o_score_b = leave_one_out_score_b.mean()\n",
    "\n",
    "# Standard Deviation of the previous estimate.\n",
    "std_l1o_score_b = leave_one_out_score_b.std()"
   ]
  },
  {
   "cell_type": "code",
   "execution_count": null,
   "metadata": {
    "tags": [
     "hide_in"
    ]
   },
   "outputs": [],
   "source": [
    "from sty import fg, rs\n",
    "print(fg(232,77,14) + \"\\033[1mAverage Accuracy of Classifier:\\033[0m\" + fg.rs)\n",
    "print(str(mean_l1o_score_b * 100) + \" %\")\n",
    "\n",
    "print(fg(98,195,238) + \"\\033[1mStandard Deviation:\\033[0m\" + fg.rs)\n",
    "print(\"+-\" + str(round(std_l1o_score_b, 1) * 100) + \" %\")"
   ]
  },
  {
   "cell_type": "markdown",
   "metadata": {},
   "source": [
    "As you can see, different sets of features produced two classifiers with a very distinct performance. We clearly understand that the first set of features <span class=\"color1\"><strong>Set A</strong></span> ensures a more effective training stage and consequently prepares better the classifier to receive and classify correctly new training examples !"
   ]
  },
  {
   "cell_type": "markdown",
   "metadata": {},
   "source": [
    "We reach the end of the \"Classification Game\".  This 4-Volume long journey reveals the wonderful world of <strong>Machine Learning</strong>, however the contents included in the Notebooks represent only a small sample of the full potential of this research area.\n",
    "\n",
    "<strong><span class=\"color7\">We hope that you have enjoyed this guide. </span><span class=\"color2\">biosignalsnotebooks</span><span class=\"color4\"> is an environment in continuous expansion, so don't stop your journey and learn more with the remaining <a href=\"../MainFiles/biosignalsnotebooks.ipynb\">Notebooks <img src=\"../../images/icons/link.png\" width=\"10px\" height=\"10px\" style=\"display:inline\"></a></span></strong> !"
   ]
  },
  {
   "cell_type": "markdown",
   "metadata": {
    "tags": [
     "hide_mark",
     "aux"
    ]
   },
   "source": [
    "<span class=\"color6\">**Auxiliary Code Segment (should not be replicated by\n",
    "the user)**</span>"
   ]
  },
  {
   "cell_type": "code",
   "execution_count": null,
   "metadata": {
    "tags": [
     "hide_both"
    ]
   },
   "outputs": [],
   "source": [
    "from biosignalsnotebooks.__notebook_support__ import css_style_apply\n",
    "css_style_apply()"
   ]
  },
  {
   "cell_type": "code",
   "execution_count": null,
   "metadata": {
    "tags": [
     "hide_both"
    ]
   },
   "outputs": [],
   "source": [
    "%%html\n",
    "<script>\n",
    "    // AUTORUN ALL CELLS ON NOTEBOOK-LOAD!\n",
    "    require(\n",
    "        ['base/js/namespace', 'jquery'],\n",
    "        function(jupyter, $) {\n",
    "            $(jupyter.events).on(\"kernel_ready.Kernel\", function () {\n",
    "                console.log(\"Auto-running all cells-below...\");\n",
    "                jupyter.actions.call('jupyter-notebook:run-all-cells-below');\n",
    "                jupyter.actions.call('jupyter-notebook:save-notebook');\n",
    "            });\n",
    "        }\n",
    "    );\n",
    "</script>"
   ]
  }
 ],
 "metadata": {
  "celltoolbar": "Tags",
  "kernelspec": {
   "display_name": "Python 3",
   "language": "python",
   "name": "python3"
  },
  "language_info": {
   "codemirror_mode": {
    "name": "ipython",
    "version": 3
   },
   "file_extension": ".py",
   "mimetype": "text/x-python",
   "name": "python",
   "nbconvert_exporter": "python",
   "pygments_lexer": "ipython3",
   "version": "3.7.2"
  }
 },
 "nbformat": 4,
 "nbformat_minor": 2
}
