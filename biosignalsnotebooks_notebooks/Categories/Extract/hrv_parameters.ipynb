{
 "cells": [
  {
   "cell_type": "markdown",
   "metadata": {
    "tags": [
     "intro_info_title"
    ]
   },
   "source": [
    "<link rel=\"stylesheet\" href=\"../../styles/theme_style.css\">\n",
    "<!--link rel=\"stylesheet\" href=\"../../styles/header_style.css\"-->\n",
    "<link rel=\"stylesheet\" href=\"https://cdnjs.cloudflare.com/ajax/libs/font-awesome/4.7.0/css/font-awesome.min.css\">\n",
    "\n",
    "<table width=\"100%\">\n",
    "    <tr>\n",
    "        <td id=\"image_td\" width=\"15%\" class=\"header_image_color_6\"><div id=\"image_img\" class=\"header_image_6\"></div></td>\n",
    "        <td class=\"header_text\"> ECG Analysis - Heart Rate Variability Parameters </td>\n",
    "    </tr>\n",
    "</table>"
   ]
  },
  {
   "cell_type": "markdown",
   "metadata": {
    "tags": [
     "intro_info_tags"
    ]
   },
   "source": [
    "<div id=\"flex-container\">\n",
    "    <div id=\"diff_level\" class=\"flex-item\">\n",
    "        <strong>Difficulty Level:</strong>   <span class=\"fa fa-star checked\"></span>\n",
    "                                <span class=\"fa fa-star checked\"></span>\n",
    "                                <span class=\"fa fa-star\"></span>\n",
    "                                <span class=\"fa fa-star\"></span>\n",
    "                                <span class=\"fa fa-star\"></span>\n",
    "    </div>\n",
    "    <div id=\"tag\" class=\"flex-item-tag\">\n",
    "        <span id=\"tag_list\">\n",
    "            <table id=\"tag_list_table\">\n",
    "                <tr>\n",
    "                    <td class=\"shield_left\">Tags</td>\n",
    "                    <td class=\"shield_right\" id=\"tags\">extract&#9729;ecg&#9729;hrv</td> \n",
    "                </tr>\n",
    "            </table>\n",
    "        </span>\n",
    "        <!-- [OR] Visit https://img.shields.io in order to create a tag badge-->\n",
    "    </div>\n",
    "</div>"
   ]
  },
  {
   "cell_type": "markdown",
   "metadata": {},
   "source": [
    "Using an analogy with the programming paradigms, electrophysiological signals can be viewed as objects containing lots of information inside.\n",
    "However obtatining knowledge from an object is only possible by accessing its attributes (characteristics).\n",
    "\n",
    "In signal processing there is an identical logic, so, for extracting knowledge from signals (our objects), we need to identify their intrinsic characteristics (parameters).\n",
    "\n",
    "The following description explains how to extract some parameters from ECG, commonly used for heart rate variability analysis (HRV).\n",
    "\n",
    "<strong><span class=\"color2\">List of HRV analysis parameters:</span></strong>\n",
    "    <br>&nbsp;&nbsp;&nbsp;&nbsp;&nbsp;<strong><span class=\"color2\">&#9740;</span></strong> Minimum, Maximum and Average RR Interval;\n",
    "    <br>&nbsp;&nbsp;&nbsp;&nbsp;&nbsp;<strong><span class=\"color2\">&#9740;</span></strong> Minimum, Maximum and Average Heart Rate (BPM);\n",
    "    <br>&nbsp;&nbsp;&nbsp;&nbsp;&nbsp;<strong><span class=\"color2\">&#9740;</span></strong> SDNN;\n",
    "    <br>&nbsp;&nbsp;&nbsp;&nbsp;&nbsp;<strong><span class=\"color2\">&#9740;</span></strong> rmsSD;\n",
    "    <br>&nbsp;&nbsp;&nbsp;&nbsp;&nbsp;<strong><span class=\"color2\">&#9740;</span></strong> NN20, pNN20;\n",
    "    <br>&nbsp;&nbsp;&nbsp;&nbsp;&nbsp;<strong><span class=\"color2\">&#9740;</span></strong> NN50, pNN50;\n",
    "    <br>&nbsp;&nbsp;&nbsp;&nbsp;&nbsp;<strong><span class=\"color2\">&#9740;</span></strong> Power inside ULF, VLF, LF and HF Frequency Bands;\n",
    "    <br>&nbsp;&nbsp;&nbsp;&nbsp;&nbsp;<strong><span class=\"color2\">&#9740;</span></strong> SD1, SD2, SD1 / SD2;"
   ]
  },
  {
   "cell_type": "markdown",
   "metadata": {},
   "source": [
    "<hr>"
   ]
  },
  {
   "cell_type": "markdown",
   "metadata": {},
   "source": [
    "<p class=\"steps\">1 - Importation of the needed packages</p>"
   ]
  },
  {
   "cell_type": "code",
   "execution_count": null,
   "metadata": {
    "tags": [
     "hide_out"
    ]
   },
   "outputs": [],
   "source": [
    "# biosignalsnotebooks own package for loading and plotting the acquired data\n",
    "import biosignalsnotebooks as bsnb\n",
    "\n",
    "# Scientific packages\n",
    "from numpy import linspace, max, min, average, std, array, diff, fabs, sqrt, power, round\n",
    "from scipy.integrate import simps"
   ]
  },
  {
   "cell_type": "markdown",
   "metadata": {},
   "source": [
    "<p class=\"steps\">2 - Load of acquired ECG data</p>"
   ]
  },
  {
   "cell_type": "code",
   "execution_count": null,
   "metadata": {},
   "outputs": [],
   "source": [
    "# Load of data\n",
    "data, header = bsnb.load_signal(\"ecg_5_min\", get_header=True)"
   ]
  },
  {
   "cell_type": "markdown",
   "metadata": {},
   "source": [
    "<p class=\"steps\">3 - Identification of the channel used during acquisition</p>"
   ]
  },
  {
   "cell_type": "code",
   "execution_count": null,
   "metadata": {},
   "outputs": [],
   "source": [
    "channel = list(data.keys())[0]"
   ]
  },
  {
   "cell_type": "code",
   "execution_count": null,
   "metadata": {
    "tags": [
     "hide_in"
    ]
   },
   "outputs": [],
   "source": [
    "print (\" Channel: \" + str(channel) + \" of \" + str(header[\"device name\"]) + \" device\")"
   ]
  },
  {
   "cell_type": "markdown",
   "metadata": {},
   "source": [
    "<p class=\"steps\">4 - Storage of sampling frequency and acquired data inside variables</p>"
   ]
  },
  {
   "cell_type": "code",
   "execution_count": null,
   "metadata": {},
   "outputs": [],
   "source": [
    "# Sampling frequency and acquired data\n",
    "fs = header[\"sampling rate\"]\n",
    "\n",
    "# Signal Samples\n",
    "signal = data[channel]\n",
    "time = linspace(0, len(signal) / fs, len(signal))"
   ]
  },
  {
   "cell_type": "markdown",
   "metadata": {},
   "source": [
    "<p class=\"steps\">5 - Generation of tachogram</p>\n",
    "Tachogram defines the fundamental structure from where all parameters will be extracted."
   ]
  },
  {
   "cell_type": "code",
   "execution_count": null,
   "metadata": {},
   "outputs": [],
   "source": [
    "tachogram_data, tachogram_time = bsnb.tachogram(signal, fs, signal=True, out_seconds=True)"
   ]
  },
  {
   "cell_type": "code",
   "execution_count": null,
   "metadata": {
    "tags": [
     "hide_in"
    ]
   },
   "outputs": [],
   "source": [
    "bsnb.plot(tachogram_time, tachogram_data, x_axis_label='Time (s)', y_axis_label='Cardiac Cycle (s)', title=\"Tachogram\",  x_range=(0, time[-1]))"
   ]
  },
  {
   "cell_type": "markdown",
   "metadata": {},
   "source": [
    "<p class=\"steps\">6 - Removal of ectopic beats</p>\n",
    "A commonly accepted definition for ectopic beats establishes that a cardiac cycle that differs in at least 20 % of the duration of the previous one, can be considered an ectopic beat that should be removed."
   ]
  },
  {
   "cell_type": "code",
   "execution_count": null,
   "metadata": {},
   "outputs": [],
   "source": [
    "tachogram_data_NN, tachogram_time_NN = bsnb.remove_ectopy(tachogram_data, tachogram_time)\n",
    "bpm_data = (1 / array(tachogram_data_NN)) * 60"
   ]
  },
  {
   "cell_type": "markdown",
   "metadata": {},
   "source": [
    "<p class=\"steps\">7 - Comparison between the tachograms obtained before and after ectopic beat removal</p>"
   ]
  },
  {
   "cell_type": "code",
   "execution_count": null,
   "metadata": {
    "tags": [
     "hide_in"
    ]
   },
   "outputs": [],
   "source": [
    "bsnb.plot_post_ecto_rem_tachogram(tachogram_time, tachogram_data, tachogram_time_NN, tachogram_data_NN)"
   ]
  },
  {
   "cell_type": "markdown",
   "metadata": {},
   "source": [
    "<strong><span class=\"color7\">We can conclude that there are not ectopic beats in the present acquisition</span></strong>"
   ]
  },
  {
   "cell_type": "markdown",
   "metadata": {},
   "source": [
    "<p class=\"steps\">8 - Extraction of Parameters</p>"
   ]
  },
  {
   "cell_type": "markdown",
   "metadata": {},
   "source": [
    "<p class=\"steps\">8.1 - Time Parameters</p>"
   ]
  },
  {
   "cell_type": "code",
   "execution_count": null,
   "metadata": {},
   "outputs": [],
   "source": [
    "# Maximum, Minimum and Average RR Interval\n",
    "max_rr = max(tachogram_data_NN)\n",
    "min_rr = min(tachogram_data_NN)\n",
    "avg_rr = average(tachogram_data_NN)\n",
    "\n",
    "# Maximum, Minimum and Average Heart Rate\n",
    "max_hr = 1 / min_rr # Cycles per second\n",
    "max_bpm = max_hr * 60 # BPM\n",
    "\n",
    "min_hr = 1 / max_rr # Cycles per second\n",
    "min_bpm = min_hr * 60 # BPM\n",
    "\n",
    "avg_hr = 1 / avg_rr # Cyles per second\n",
    "avg_bpm = avg_hr * 60 # BPM\n",
    "\n",
    "# SDNN\n",
    "sdnn = std(tachogram_data_NN)\n",
    "\n",
    "time_param_dict = {\"Maximum RR\": max_rr, \"Minimum RR\": min_rr, \"Average RR\": avg_rr, \"Maximum BPM\": max_bpm, \"Minimum BPM\": min_bpm, \"Average BPM\": avg_bpm, \"SDNN\": sdnn}"
   ]
  },
  {
   "cell_type": "code",
   "execution_count": null,
   "metadata": {
    "tags": [
     "hide_in"
    ]
   },
   "outputs": [],
   "source": [
    "print (\"[Maximum RR, Minimum RR, Average RR] = [\" + str(max_rr) + \", \" + str(min_rr) + \", \" + str(avg_rr) + \"] s\")\n",
    "print (\"[Maximum BPM, Minimum BPM, Average BPM] = [\" + str(max_bpm) + \", \" + str(min_bpm) + \", \" + str(avg_bpm) + \"] BPM\")"
   ]
  },
  {
   "cell_type": "code",
   "execution_count": null,
   "metadata": {
    "tags": [
     "hide_in"
    ]
   },
   "outputs": [],
   "source": [
    "bsnb.plot_hrv_parameters(tachogram_time, tachogram_data, time_param_dict)"
   ]
  },
  {
   "cell_type": "markdown",
   "metadata": {},
   "source": [
    "<p class=\"steps\">8.2 - Poincar&#x00E9; Parameters</p>"
   ]
  },
  {
   "cell_type": "code",
   "execution_count": null,
   "metadata": {},
   "outputs": [],
   "source": [
    "# Auxiliary Structures\n",
    "tachogram_diff = diff(tachogram_data)\n",
    "tachogram_diff_abs = fabs(tachogram_diff)\n",
    "sdsd = std(tachogram_diff)\n",
    "rr_i = tachogram_data[:-1]\n",
    "rr_i_plus_1 = tachogram_data[1:]\n",
    "\n",
    "# Poincaré Parameters\n",
    "sd1 = sqrt(0.5 * power(sdsd, 2))\n",
    "sd2 = sqrt(2 * power(sdnn, 2) - power(sd1, 2))\n",
    "sd1_sd2 = sd1 / sd2"
   ]
  },
  {
   "cell_type": "code",
   "execution_count": null,
   "metadata": {
    "tags": [
     "hide_in"
    ]
   },
   "outputs": [],
   "source": [
    "print (\"[SD1, SD2] = [\" + str(sd1) + \", \" + str(sd2) + \"] s\")\n",
    "print (\"SD1/SD2 = \" + str(sd1_sd2))"
   ]
  },
  {
   "cell_type": "code",
   "execution_count": null,
   "metadata": {
    "tags": [
     "hide_in"
    ]
   },
   "outputs": [],
   "source": [
    "bsnb.plot_poincare(tachogram_data)"
   ]
  },
  {
   "cell_type": "markdown",
   "metadata": {},
   "source": [
    "<p class=\"steps\">8.3 - Frequency Parameters</p>"
   ]
  },
  {
   "cell_type": "code",
   "execution_count": null,
   "metadata": {},
   "outputs": [],
   "source": [
    "# Auxiliary Structures\n",
    "freqs, power_spect = bsnb.psd(tachogram_time, tachogram_data) # Power spectrum.\n",
    "\n",
    "# Frequemcy Parameters\n",
    "freq_bands = {\"ulf_band\": [0.00, 0.003], \"vlf_band\": [0.003, 0.04], \"lf_band\": [0.04, 0.15], \"hf_band\": [0.15, 0.40]}\n",
    "power_values = {}\n",
    "total_power = 0\n",
    "\n",
    "band_keys = freq_bands.keys()\n",
    "for band in band_keys:\n",
    "    freq_band = freq_bands[band]\n",
    "    freq_samples_inside_band = [freq for freq in freqs if freq >= freq_band[0] and freq <= freq_band[1]]\n",
    "    power_samples_inside_band = [p for p, freq in zip(power_spect, freqs) if freq >= freq_band[0] and freq <= freq_band[1]]\n",
    "    power = round(simps(power_samples_inside_band, freq_samples_inside_band), 5)\n",
    "    \n",
    "    # Storage of power inside each band\n",
    "    power_values[band] = power\n",
    "    \n",
    "    # Total power update\n",
    "    total_power = total_power + power"
   ]
  },
  {
   "cell_type": "code",
   "execution_count": null,
   "metadata": {
    "tags": [
     "hide_in"
    ]
   },
   "outputs": [],
   "source": [
    "print (\"Power in [ULF, VLF, LF, HF] Bands = [\" + str(power_values[\"ulf_band\"]) + \", \" + str(power_values[\"vlf_band\"]) + \", \" + str(power_values[\"lf_band\"]) + \", \" + str(power_values[\"hf_band\"]) + \"] s\\u00B2\")\n",
    "print (\"Total Power = \" + str(total_power) + \" s\\u00B2\")"
   ]
  },
  {
   "cell_type": "code",
   "execution_count": null,
   "metadata": {
    "tags": [
     "hide_in"
    ]
   },
   "outputs": [],
   "source": [
    "bsnb.plot_hrv_power_bands(freqs, power_spect)"
   ]
  },
  {
   "cell_type": "markdown",
   "metadata": {},
   "source": [
    "<p class=\"steps\">Additional Temporal Parameters</p>"
   ]
  },
  {
   "cell_type": "code",
   "execution_count": null,
   "metadata": {},
   "outputs": [],
   "source": [
    "# Number of RR intervals that have a difference in duration, from the previous one, of at least 20 ms\n",
    "nn20 = sum(1 for i in tachogram_diff_abs if i > 0.02)\n",
    "pnn20 = int(float(nn20) / len(tachogram_diff_abs) * 100) # Percentage value.\n",
    "\n",
    "# Number of RR intervals that have a difference in duration, from the previous one, of at least 50 ms\n",
    "nn50 = sum(1 for i in tachogram_diff_abs if i > 0.05)\n",
    "pnn50 = int(float(nn50) / len(tachogram_diff_abs) * 100) # Percentage value."
   ]
  },
  {
   "cell_type": "code",
   "execution_count": null,
   "metadata": {
    "tags": [
     "hide_in"
    ]
   },
   "outputs": [],
   "source": [
    "print (\"[NN20, pNN20, NN50, pNN50] = [\" + str(nn20) + \", \" + str(pnn20) + \" %, \" + str(nn50) + \", \" + str(pnn50) + \" %]\")"
   ]
  },
  {
   "cell_type": "markdown",
   "metadata": {},
   "source": [
    "*This procedure can be automatically done by **hrv_parameters** function in **extract** module of **<span class=\"color2\">biosignalsnotebooks</span>** package*"
   ]
  },
  {
   "cell_type": "code",
   "execution_count": null,
   "metadata": {},
   "outputs": [],
   "source": [
    "dictParameters = bsnb.hrv_parameters(signal, fs, signal=True)\n",
    "print (dictParameters)"
   ]
  },
  {
   "cell_type": "markdown",
   "metadata": {},
   "source": [
    "This set of parameters reveals interesting information about ECG signal, however you can extract much more features during your signal processing journey !\n",
    "\n",
    "<strong><span class=\"color7\">We hope that you have enjoyed this guide. </span><span class=\"color2\">biosignalsnotebooks</span><span class=\"color4\"> is an environment in continuous expansion, so don't stop your journey and learn more with the remaining <a href=\"../MainFiles/biosignalsnotebooks.ipynb\">Notebooks <img src=\"../../images/icons/link.png\" width=\"10px\" height=\"10px\" style=\"display:inline\"></a></span></strong> ! "
   ]
  },
  {
   "cell_type": "markdown",
   "metadata": {
    "tags": [
     "hide_mark",
     "aux"
    ]
   },
   "source": [
    "<span class=\"color6\">**Auxiliary Code Segment (should not be replicated by the user)**</span>"
   ]
  },
  {
   "cell_type": "code",
   "execution_count": null,
   "metadata": {
    "tags": [
     "hide_both"
    ]
   },
   "outputs": [],
   "source": [
    "bsnb.css_style_apply()"
   ]
  },
  {
   "cell_type": "code",
   "execution_count": null,
   "metadata": {
    "tags": [
     "hide_both"
    ]
   },
   "outputs": [],
   "source": [
    "%%html\n",
    "<script>\n",
    "    // AUTORUN ALL CELLS ON NOTEBOOK-LOAD!\n",
    "    require(\n",
    "        ['base/js/namespace', 'jquery'],\n",
    "        function(jupyter, $) {\n",
    "            $(jupyter.events).on(\"kernel_ready.Kernel\", function () {\n",
    "                console.log(\"Auto-running all cells-below...\");\n",
    "                jupyter.actions.call('jupyter-notebook:run-all-cells-below');\n",
    "                jupyter.actions.call('jupyter-notebook:save-notebook');\n",
    "            });\n",
    "        }\n",
    "    );\n",
    "</script>"
   ]
  }
 ],
 "metadata": {
  "celltoolbar": "Tags",
  "kernelspec": {
   "display_name": "Python 3",
   "language": "python",
   "name": "python3"
  },
  "language_info": {
   "codemirror_mode": {
    "name": "ipython",
    "version": 3
   },
   "file_extension": ".py",
   "mimetype": "text/x-python",
   "name": "python",
   "nbconvert_exporter": "python",
   "pygments_lexer": "ipython3",
   "version": "3.7.6"
  }
 },
 "nbformat": 4,
 "nbformat_minor": 2
}
