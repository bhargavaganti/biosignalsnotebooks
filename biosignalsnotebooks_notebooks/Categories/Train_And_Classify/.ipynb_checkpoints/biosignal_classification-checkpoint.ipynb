{
 "cells": [
  {
   "cell_type": "markdown",
   "metadata": {
    "tags": [
     "intro_info_title"
    ]
   },
   "source": [
    "<link rel=\"stylesheet\" href=\"../../styles/theme_style.css\">\n",
    "<!--link rel=\"stylesheet\" href=\"../../styles/header_style.css\"-->\n",
    "<link rel=\"stylesheet\" href=\"https://cdnjs.cloudflare.com/ajax/libs/font-awesome/4.7.0/css/font-awesome.min.css\">\n",
    "\n",
    "<table width=\"100%\">\n",
    "    <tr>\n",
    "        <td id=\"image_td\" width=\"15%\" class=\"header_image_color_7\"><div id=\"image_img\"\n",
    "        class=\"header_image_7\"></div></td>\n",
    "        <td class=\"header_text\"> Signal Classifier - Distinguish between EMG and ECG </td>\n",
    "    </tr>\n",
    "</table>"
   ]
  },
  {
   "cell_type": "markdown",
   "metadata": {
    "tags": [
     "intro_info_tags"
    ]
   },
   "source": [
    "<div id=\"flex-container\">\n",
    "    <div id=\"diff_level\" class=\"flex-item\">\n",
    "        <strong>Difficulty Level:</strong>   <span class=\"fa fa-star checked\"></span>\n",
    "                                <span class=\"fa fa-star checked\"></span>\n",
    "                                <span class=\"fa fa-star checked\"></span>\n",
    "                                <span class=\"fa fa-star checked\"></span>\n",
    "                                <span class=\"fa fa-star\"></span>\n",
    "    </div>\n",
    "    <div id=\"tag\" class=\"flex-item-tag\">\n",
    "        <span id=\"tag_list\">\n",
    "            <table id=\"tag_list_table\">\n",
    "                <tr>\n",
    "                    <td class=\"shield_left\">Tags</td>\n",
    "                    <td class=\"shield_right\" id=\"tags\">train_and_classify&#9729;classification&#9729;biosignals&#9729;emg&#9729;ecg</td>\n",
    "                </tr>\n",
    "            </table>\n",
    "        </span>\n",
    "        <!-- [OR] Visit https://img.shields.io in order to create a tag badge-->\n",
    "    </div>\n",
    "</div>"
   ]
  },
  {
   "cell_type": "markdown",
   "metadata": {
    "tags": [
     "test"
    ]
   },
   "source": [
    "Machine learning is a branch of artificial intelligence that emerged with the increase of computational power that has accompanied the evolution of technology. It allows for the computer to learn the outcome of numerous problems by exploiting the internal structure of the datasets given as input.\n",
    "\n",
    "There are three main settings of <a href=https://en.wikipedia.org/wiki/Machine_learning>machine learning <img src=\"../../images/icons/link.png\" width=\"10px\" height=\"10px\" style=\"display:inline\"></a>:\n",
    "<ul>\n",
    "    <li><strong>Unsupervised Learning</strong> - Learning the internal structure of a given dataset without prior knowledge. It is often used as a way of finding interesting features or similarities in a dataset that may not be perceptible to the human eye. For example, in retail, it may be used to aggregate a set of customers that exhibit similar shopping patterns in order to send directed advertisement to them.</li>\n",
    "    <li><strong>Semi-Supervised Learning</strong> - Learning the internal structure of a given dataset with some knowledge about it. It is usually used in cases where it is possible to distinguish classes from datasets without the need of labelling every class, which is an expensive work. For example, it may be used in anomaly detection scenarios, where the number of normal instances is usually immensely higher than the anomalous instances. A concrete example is that of aircraft failure detection, in which we know the normal functioning of the system, but we lack in anomalies because it may be too expensive or rare to happen (p.e. engine malfunction). In this cases, the normal instances are labelled, but the anomalous ones are not.</li>\n",
    "    <li><strong>Supervised Learning</strong> - Supervised learning consists of learning the patterns in a given dataset in which we have full comprehension about it. For example, there are databases of ECG signals that include high number of arrhythmias, where every heartbeat is labelled by the type of arrhythmia or if it is normal.</li>\n",
    "</ul>\n",
    "In this <strong><span class=\"color4\">Jupyter Notebook</span></strong>, it will be shown how to use the package <a href=https://scikit-learn.org/stable/> scikit-learn <img src=\"../../images/icons/link.png\" width=\"10px\" height=\"10px\" style=\"display:inline\"></a> in order to easily deploy machine learning models to determine the nature of a given biosignal, in this case, if it is an <strong>ECG</strong>, an <strong>EMG</strong> or <strong>other</strong>."
   ]
  },
  {
   "cell_type": "markdown",
   "metadata": {},
   "source": [
    "<hr>"
   ]
  },
  {
   "cell_type": "markdown",
   "metadata": {},
   "source": [
    "<p class=\"steps\">1 - Import the required packages</p>\n",
    "In order to facilitate our work, we will use the <span class=\"color2\"><strong>biosignalsnotebooks</strong></span> package, which includes multiple sample signals among other features, <strong>scikit-learn</strong>, that has an high-level implementation of a high number of methods and models used in machine learning applications, and <strong>numpy</strong>, that implements mathematical functions in an easy way."
   ]
  },
  {
   "cell_type": "code",
   "execution_count": null,
   "metadata": {},
   "outputs": [],
   "source": [
    "import biosignalsnotebooks as bsnb\n",
    "\n",
    "from numpy import mean, std, zeros, diff, sign, vstack, concatenate, ravel\n",
    "from scipy.stats import kurtosis, skew\n",
    "\n",
    "from sklearn.ensemble import RandomForestClassifier\n",
    "from sklearn.model_selection import ShuffleSplit\n",
    "from sklearn.metrics import classification_report, accuracy_score"
   ]
  },
  {
   "cell_type": "markdown",
   "metadata": {},
   "source": [
    "<p class=\"steps\">2 - Load sample signals</p>\n",
    "<strong><span class=\"color1\">biosignalsnotebooks</span> Python</strong> package provides a set of sample signals that we will be using in order to train and test our model. As we want to distinguish between ECG, EMG and other types of signals, we will use multiple files.<br>\n",
    "<strong>Note:</strong> Since we will only use one channel of each signal, we parse the channel in the same line where we load the signal. Furthermore, we will use the z-standardisation to normalise our signals to have 0 mean and unit variance."
   ]
  },
  {
   "cell_type": "markdown",
   "metadata": {},
   "source": [
    "First, we will load the ECG signal, that consists of a 20 seconds acquisition at 1000 Hz sampling rate and a resolution of 16 bits."
   ]
  },
  {
   "cell_type": "code",
   "execution_count": null,
   "metadata": {},
   "outputs": [],
   "source": [
    "# Relative path to the signal samples folder\n",
    "path = \"../../signal_samples\"\n",
    "# Load the ECG signal\n",
    "ECG = bsnb.load(path + \"/ecg_20_sec_1000_Hz.h5\")['CH1']\n",
    "# Normalise ECG signal\n",
    "ECG = ECG - mean(ECG); ECG /= std(ECG)"
   ]
  },
  {
   "cell_type": "code",
   "execution_count": null,
   "metadata": {
    "tags": [
     "hide_in"
    ]
   },
   "outputs": [],
   "source": [
    "ECG_time = bsnb.generate_time(ECG)\n",
    "bsnb.plot(ECG_time, ECG)"
   ]
  },
  {
   "cell_type": "markdown",
   "metadata": {},
   "source": [
    "For the EMG signal, we will be using an acquisition of 28 seconds at 1000 Hz sampling rate and a resolution of 16 bits."
   ]
  },
  {
   "cell_type": "code",
   "execution_count": null,
   "metadata": {},
   "outputs": [],
   "source": [
    "# Load the EMG signal\n",
    "EMG = bsnb.load(path + \"/emg_bursts.h5\")['CH3']\n",
    "# Normalise EMG signal\n",
    "EMG = EMG - mean(EMG); EMG /= std(EMG)"
   ]
  },
  {
   "cell_type": "code",
   "execution_count": null,
   "metadata": {
    "tags": [
     "hide_in"
    ]
   },
   "outputs": [],
   "source": [
    "EMG_time = bsnb.generate_time(EMG)\n",
    "bsnb.plot(EMG_time, EMG)"
   ]
  },
  {
   "cell_type": "markdown",
   "metadata": {},
   "source": [
    "For the other signals, we could use any type that did not correspond to ECG or EMG. In this case, we will be using two different types.\n",
    "\n",
    "The first is a signal of EEG acquired during 28 seconds at 1000 Hz sampling rate and a resolution of 16 bits."
   ]
  },
  {
   "cell_type": "code",
   "execution_count": null,
   "metadata": {},
   "outputs": [],
   "source": [
    "# Load other signal\n",
    "EEG = bsnb.load(path + \"/signal_sample_single_hub_EEG_2018_7_4.h5\")['CH1']\n",
    "# Normalise other signal\n",
    "EEG = EEG - mean(EEG); EEG /= std(EEG)"
   ]
  },
  {
   "cell_type": "code",
   "execution_count": null,
   "metadata": {
    "tags": [
     "hide_in"
    ]
   },
   "outputs": [],
   "source": [
    "EEG_time = bsnb.generate_time(EEG)\n",
    "bsnb.plot(EEG_time, EEG)"
   ]
  },
  {
   "cell_type": "markdown",
   "metadata": {},
   "source": [
    "The second signal is an acoustic signal acquired during 20 seconds at 1000 Hz sampling rate and a resolution of 16 bits."
   ]
  },
  {
   "cell_type": "code",
   "execution_count": null,
   "metadata": {},
   "outputs": [],
   "source": [
    "# Load another signal\n",
    "ACO = bsnb.load(path + \"/sync_cable_acoustic.h5\")\n",
    "# Get the mac address of one of the devices used in this acquisition\n",
    "mac_address = list(ACO.keys())[0]\n",
    "# Load the the signal corresponding to the first channel of the device\n",
    "ACO = ACO[mac_address]['CH1']\n",
    "# Normalise another signal\n",
    "ACO = ACO - mean(ACO); ACO /= std(ACO)"
   ]
  },
  {
   "cell_type": "code",
   "execution_count": null,
   "metadata": {
    "tags": [
     "hide_in"
    ]
   },
   "outputs": [],
   "source": [
    "ACO_time = bsnb.generate_time(ACO)\n",
    "bsnb.plot(ACO_time, ACO)"
   ]
  },
  {
   "cell_type": "markdown",
   "metadata": {},
   "source": [
    "<p class=\"steps\">3 - Windowing</p>\n",
    "Machine learning pipelines usually require the extraction of features that have the ability to represent each class in a representative way in order to be possible to distinguish them.<br>\n",
    "To do this, it is important to window the input signals, where the features will be extracted. For example, we can use windows of 1 second with or without overlap and represent each of these windows by a set of features, such as the mean, standard deviation, among others. We achieve this by using the <strong>windowing</strong> function of the <strong><span class=\"color1\">biosignalsnotebooks</span> Python</strong> package."
   ]
  },
  {
   "cell_type": "code",
   "execution_count": null,
   "metadata": {},
   "outputs": [],
   "source": [
    "sampling_rate = 1000 # Hz\n",
    "time_window = 1 # seconds\n",
    "overlap = 0.9\n",
    "\n",
    "ECG_windows = bsnb.windowing(ECG, sampling_rate, time_window, overlap)\n",
    "EMG_windows = bsnb.windowing(EMG, sampling_rate, time_window, overlap)\n",
    "EEG_windows = bsnb.windowing(EEG, sampling_rate, time_window, overlap)\n",
    "ACO_windows = bsnb.windowing(ACO, sampling_rate, time_window, overlap)\n",
    "\n",
    "# Get the number of time windows of the shortest signal in order to concatenate all signals to the same number of time windows.\n",
    "index = min([ECG_windows.shape[0], EMG_windows.shape[0], EEG_windows.shape[0], ACO_windows.shape[0]])\n",
    "\n",
    "# Concatenate all signals to the same number of time windows.\n",
    "ECG_windows = ECG_windows[:index]\n",
    "EMG_windows = EMG_windows[:index]\n",
    "EEG_windows = EEG_windows[:index]\n",
    "ACO_windows = ACO_windows[:index]"
   ]
  },
  {
   "cell_type": "code",
   "execution_count": null,
   "metadata": {
    "tags": [
     "hide_in"
    ]
   },
   "outputs": [],
   "source": [
    "print(\"The number of time windows for each signal is \" + str(ECG_windows.shape[0]) + \", while the number of data points in each time window is \" + str(ECG_windows.shape[1]) + \".\")"
   ]
  },
  {
   "cell_type": "markdown",
   "metadata": {},
   "source": [
    "<p class=\"steps\">4 - Feature Extraction</p>\n",
    "In this step we will define the features that we want to extract from each time window that will represent each of those windows in the input of the classifier. In this case we will use a few statistical features but you can extract features from the time, spectral, statistical or other domains.<br>\n",
    "In order to extract those features from each time window, we will use the function <strong>features_extraction</strong> from <strong><span class=\"color1\">biosignalsnotebook</span></strong> Python package."
   ]
  },
  {
   "cell_type": "code",
   "execution_count": null,
   "metadata": {},
   "outputs": [],
   "source": [
    "# Defining the functions applied to each time window in order to extract features\n",
    "func = [mean, std, kurtosis, skew, bsnb.zero_crossing_rate]\n",
    "\n",
    "ECG_features = bsnb.features_extraction(ECG_windows, func)\n",
    "EMG_features = bsnb.features_extraction(EMG_windows, func)\n",
    "EEG_features = bsnb.features_extraction(EEG_windows, func)\n",
    "ACO_features = bsnb.features_extraction(ACO_windows, func)"
   ]
  },
  {
   "cell_type": "markdown",
   "metadata": {},
   "source": [
    "<p class=\"steps\">5 - Generate dataset</p>\n",
    "Now that we have the data required to train our classifier, it is time to build the proper dataset. To do this, we only need to concatenate our features arrays and assign each of them to a different class."
   ]
  },
  {
   "cell_type": "code",
   "execution_count": null,
   "metadata": {},
   "outputs": [],
   "source": [
    "# Get the number of samples of each type of signal - in this case, our classes.\n",
    "lenght_ECG = ECG_features.shape[0]\n",
    "lenght_EMG = EMG_features.shape[0]\n",
    "lenght_EEG = EEG_features.shape[0]\n",
    "lenght_ACO = ACO_features.shape[0]\n",
    "\n",
    "# Build the samples array containing all samples from each signal.\n",
    "samples = vstack([ECG_features, EMG_features, EEG_features, ACO_features])\n",
    "\n",
    "# Build the classes array to assign each sample to its class. \n",
    "classes = concatenate([lenght_ECG*['ECG'], lenght_EMG*['EMG'], lenght_EEG*['Other'], lenght_ACO*['Other']])"
   ]
  },
  {
   "cell_type": "markdown",
   "metadata": {},
   "source": [
    "<p class=\"steps\">6 - Build the classifier</p>\n",
    "In this step we will build our classifier by using the <strong>scikit-learn</strong> Python package. We will use a <a href=https://en.wikipedia.org/wiki/Random_forest>Random Forest <img src=\"../../images/icons/link.png\" width=\"10px\" height=\"10px\" style=\"display:inline\"></a> model, but there are multiple classifiers that are available in the specified Python package.<br>\n",
    "Furthermore, in order to validate our approach, we will use cross-validation, which consists of dividing our dataset in train and test set and let the classifier train on the train set and then test it on the previously unseen test set. <br>\n",
    "For more information about cross-validation, see the notebook <a href=\"../evaluate/classification_game_volume_4.ipynb\">Stone, Paper or Scissor Game - Train and Classify [Volume 4] <img src=\"../../images/icons/link.png\" width=\"10px\" height=\"10px\" style=\"display:inline\"></a>"
   ]
  },
  {
   "cell_type": "markdown",
   "metadata": {},
   "source": [
    "We use the <a href=https://scikit-learn.org/stable/modules/generated/sklearn.model_selection.ShuffleSplit.html>ShuffleSplit <img src=\"../../images/icons/link.png\" width=\"10px\" height=\"10px\" style=\"display:inline\"></a> method, that allows to generate these sets in random orders, where the samples may not be consecutive, avoiding to leave out one of the types of signals from the train/test set."
   ]
  },
  {
   "cell_type": "code",
   "execution_count": null,
   "metadata": {},
   "outputs": [],
   "source": [
    "model = ShuffleSplit(n_splits=10, train_size=.9, test_size=.1)"
   ]
  },
  {
   "cell_type": "markdown",
   "metadata": {},
   "source": [
    "The next step is the cross validation step, where we initialise and evaluate our random forest classifier using the scikit-learn Python package."
   ]
  },
  {
   "cell_type": "code",
   "execution_count": null,
   "metadata": {},
   "outputs": [],
   "source": [
    "acc = []\n",
    "for train_index, test_index in model.split(samples):\n",
    "    \n",
    "    # For each iteration, we divide our dataset in train and test set.\n",
    "    samples_train, samples_test = samples[train_index], samples[test_index]\n",
    "    labels_train, labels_test = classes[train_index], classes[test_index]\n",
    "    \n",
    "    # Build the random forest clasdsifier.\n",
    "    random_forest = RandomForestClassifier(n_estimators=1000, criterion='gini')\n",
    "    \n",
    "    # Train the classifier on the training set.\n",
    "    random_forest = random_forest.fit(samples_train, ravel(labels_train))\n",
    "    \n",
    "    # Test the classifier on the testing set.\n",
    "    results = random_forest.predict(samples_test)\n",
    "\n",
    "    # This step is not necessary for the classification procedure, but is important to store the values \n",
    "    # of accuracy to calculate the mean and standard deviation values and evaluate the performance of the classifier.\n",
    "    acc.append(accuracy_score(labels_test, results)*100)"
   ]
  },
  {
   "cell_type": "code",
   "execution_count": null,
   "metadata": {
    "tags": [
     "hide_in"
    ]
   },
   "outputs": [],
   "source": [
    "print(\"Accuracy: \", mean(acc), \"+-\", std(acc), \"%\")"
   ]
  },
  {
   "cell_type": "markdown",
   "metadata": {},
   "source": [
    "As can be seen, in this simple example we achieved high values of accuracy that indicate that most of the time windows were well classified as either **ECG**, **EMG** or **other** type of signal. These results may not yield if the signals are not as clean and of good quality as the samples used in this **<span class=\"color1\">Jupyter Notebook</span>**, but the procedure may be maintained. Furthermore, other classifiers may be used, their hyperparameters may be optimised and other cross-validation techniques may be applied, so there is a lot to explore.\n",
    "\n",
    "<strong><span class=\"color7\">We hope that you have enjoyed this guide. </span><span class=\"color2\">biosignalsnotebooks</span><span class=\"color4\"> is an environment in continuous expansion, so don't stop your journey and learn more with the remaining <a href=\"../MainFiles/biosignalsnotebooks.ipynb\">Notebooks <img src=\"../../images/icons/link.png\" width=\"10px\" height=\"10px\" style=\"display:inline\"></a></span></strong> ! "
   ]
  },
  {
   "cell_type": "markdown",
   "metadata": {
    "tags": [
     "hide_mark",
     "aux"
    ]
   },
   "source": [
    "<span class=\"color6\">**Auxiliary Code Segment (should not be replicated by\n",
    "the user)**</span>"
   ]
  },
  {
   "cell_type": "code",
   "execution_count": null,
   "metadata": {
    "tags": [
     "hide_both"
    ]
   },
   "outputs": [],
   "source": [
    "from biosignalsnotebooks.__notebook_support__ import css_style_apply\n",
    "css_style_apply()"
   ]
  },
  {
   "cell_type": "code",
   "execution_count": null,
   "metadata": {
    "tags": [
     "hide_both"
    ]
   },
   "outputs": [],
   "source": [
    "%%html\n",
    "<script>\n",
    "    // AUTORUN ALL CELLS ON NOTEBOOK-LOAD!\n",
    "    require(\n",
    "        ['base/js/namespace', 'jquery'],\n",
    "        function(jupyter, $) {\n",
    "            $(jupyter.events).on(\"kernel_ready.Kernel\", function () {\n",
    "                console.log(\"Auto-running all cells-below...\");\n",
    "                jupyter.actions.call('jupyter-notebook:run-all-cells-below');\n",
    "                jupyter.actions.call('jupyter-notebook:save-notebook');\n",
    "            });\n",
    "        }\n",
    "    );\n",
    "</script>"
   ]
  }
 ],
 "metadata": {
  "celltoolbar": "Tags",
  "hide_input": false,
  "kernelspec": {
   "display_name": "Python 3",
   "language": "python",
   "name": "python3"
  },
  "language_info": {
   "codemirror_mode": {
    "name": "ipython",
    "version": 3
   },
   "file_extension": ".py",
   "mimetype": "text/x-python",
   "name": "python",
   "nbconvert_exporter": "python",
   "pygments_lexer": "ipython3",
   "version": "3.7.2"
  }
 },
 "nbformat": 4,
 "nbformat_minor": 2
}
