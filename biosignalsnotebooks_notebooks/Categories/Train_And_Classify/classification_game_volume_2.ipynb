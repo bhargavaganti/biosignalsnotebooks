{
 "cells": [
  {
   "cell_type": "markdown",
   "metadata": {
    "tags": [
     "intro_info_title"
    ]
   },
   "source": [
    "<link rel=\"stylesheet\" href=\"../../styles/theme_style.css\">\n",
    "<!--link rel=\"stylesheet\" href=\"../../styles/header_style.css\"-->\n",
    "<link rel=\"stylesheet\" href=\"https://cdnjs.cloudflare.com/ajax/libs/font-awesome/4.7.0/css/font-awesome.min.css\">\n",
    "\n",
    "<table width=\"100%\">\n",
    "    <tr>\n",
    "        <td id=\"image_td\" width=\"15%\" class=\"header_image_color_7\"><div id=\"image_img\"\n",
    "        class=\"header_image_7\"></div></td>\n",
    "        <td class=\"header_text\"> Rock, Paper or Scissor Game - Train and Classify [Volume 2] </td>\n",
    "    </tr>\n",
    "</table>"
   ]
  },
  {
   "cell_type": "markdown",
   "metadata": {
    "tags": [
     "intro_info_tags"
    ]
   },
   "source": [
    "<div id=\"flex-container\">\n",
    "    <div id=\"diff_level\" class=\"flex-item\">\n",
    "        <strong>Difficulty Level:</strong>   <span class=\"fa fa-star checked\"></span>\n",
    "                                <span class=\"fa fa-star checked\"></span>\n",
    "                                <span class=\"fa fa-star checked\"></span>\n",
    "                                <span class=\"fa fa-star checked\"></span>\n",
    "                                <span class=\"fa fa-star\"></span>\n",
    "    </div>\n",
    "    <div id=\"tag\" class=\"flex-item-tag\">\n",
    "        <span id=\"tag_list\">\n",
    "            <table id=\"tag_list_table\">\n",
    "                <tr>\n",
    "                    <td class=\"shield_left\">Tags</td>\n",
    "                    <td class=\"shield_right\" id=\"tags\">train_and_classify&#9729;machine-learning&#9729;features&#9729;extraction</td>\n",
    "                </tr>\n",
    "            </table>\n",
    "        </span>\n",
    "        <!-- [OR] Visit https://img.shields.io in order to create a tag badge-->\n",
    "    </div>\n",
    "</div>"
   ]
  },
  {
   "cell_type": "markdown",
   "metadata": {
    "tags": [
     "test"
    ]
   },
   "source": [
    "<span class=\"color4\"><strong>Previous Notebooks that are part of \"Rock, Paper or Scissor Game - Train and Classify\" module</strong></span>\n",
    "<ul>\n",
    "    <li><a href=\"classification_game_volume_1.ipynb\"><strong>Rock, Paper or Scissor Game - Train and Classify [Volume 1] | Experimental Setup <img src=\"../../images/icons/link.png\" width=\"10px\" height=\"10px\" style=\"display:inline\"></strong></a></li>\n",
    "</ul>\n",
    "\n",
    "<span class=\"color7\"><strong>Following Notebooks that are part of \"Rock, Paper or Scissor Game - Train and Classify\" module</strong></span>\n",
    "<ul>\n",
    "    <li><a href=\"classification_game_volume_3.ipynb\"><strong>Rock, Paper or Scissor Game - Train and Classify [Volume 3] | Training a Classifier <img src=\"../../images/icons/link.png\" width=\"10px\" height=\"10px\" style=\"display:inline\"></strong></a></li>\n",
    "    <li><a href=\"../Evaluate/classification_game_volume_4.ipynb\"><strong>Rock, Paper or Scissor Game - Train and Classify [Volume 4] | Performance Evaluation <img src=\"../../images/icons/link.png\" width=\"10px\" height=\"10px\" style=\"display:inline\"></strong></a></li>\n",
    "</ul>\n",
    "\n",
    "<table width=\"100%\">\n",
    "    <tr>\n",
    "        <td style=\"text-align:left;font-size:12pt;border-top:dotted 2px #62C3EE\">\n",
    "            <span class=\"color1\">&#9740;</span> After the presentation of data acquisition conditions on the previous <a href=\"classification_game_volume_1.ipynb\">Jupyter Notebook <img src=\"../../images/icons/link.png\" width=\"10px\" height=\"10px\" style=\"display:inline\"></a>, we will follow our Machine Learning Journey by specifying which features will be extracted.\n",
    "            <br>\n",
    "            \"Features\" are numerical parameters extracted from the training data (in our case physiological signals acquired when executing gestures of \"Rock, Paper or Scissor\" game), characterizing objectively the training example.\n",
    "            A good feature is a parameter that has the ability to separate the different classes of our classification system, i.e, a parameter with a characteristic range of values for each available class.\n",
    "        </td>\n",
    "    </tr>\n",
    "</table>\n",
    "<hr>"
   ]
  },
  {
   "cell_type": "markdown",
   "metadata": {},
   "source": [
    "<p style=\"font-size:20pt;color:#62C3EE;padding-bottom:5pt\">Starting Point (Setup)</p>\n",
    "<strong>List of Available Classes:</strong>\n",
    "<br>\n",
    "<ol start=\"0\">\n",
    "    <li><span class=\"color1\"><strong>\"No Action\"</strong></span> [When the hand is relaxed]</li>\n",
    "    <li><span class=\"color4\"><strong>\"Paper\"</strong></span> [All fingers are extended]</li>\n",
    "    <li><span class=\"color7\"><strong>\"Rock\"</strong></span> [All fingers are flexed]</li>\n",
    "    <li><span class=\"color13\"><strong>\"Scissor\"</strong></span> [Forefinger and middle finger are extended and the remaining ones are flexed]</li>\n",
    "</ol>\n",
    "<table align=\"center\">\n",
    "    <tr>\n",
    "        <td height=\"200px\">\n",
    "            <img src=\"../../images/train_and_classify/classification_game_volume_2/classification_game_paper.png\" style=\"display:block;height:100%\">\n",
    "        </td>\n",
    "        <td height=\"200px\">\n",
    "            <img src=\"../../images/train_and_classify/classification_game_volume_2/classification_game_stone.png\" style=\"display:block;height:100%\">\n",
    "        </td>\n",
    "        <td height=\"200px\">\n",
    "            <img src=\"../../images/train_and_classify/classification_game_volume_2/classification_game_scissor.png\" style=\"display:block;height:100%\">\n",
    "        </td>\n",
    "    </tr>\n",
    "    <tr>\n",
    "        <td style=\"text-align:center\">\n",
    "            <strong>Paper</strong>\n",
    "        </td>\n",
    "        <td style=\"text-align:center\">\n",
    "            <strong>Rock</strong>\n",
    "        </td>\n",
    "        <td style=\"text-align:center\">\n",
    "            <strong>Scissor</strong>\n",
    "        </td>\n",
    "    </tr>\n",
    "</table>\n",
    "\n",
    "<strong>Acquired Data:</strong>\n",
    "<br>\n",
    "<ul>\n",
    "    <li>Electromyography (EMG) | 2 muscles | Adductor pollicis and  Flexor digitorum superficialis</li>\n",
    "    <li>Accelerometer (ACC) | 1 axis | Sensor parallel to the thumb nail (Axis perpendicular)</li>\n",
    "</ul>"
   ]
  },
  {
   "cell_type": "markdown",
   "metadata": {},
   "source": [
    "<p style=\"font-size:20pt;color:#62C3EE;padding-bottom:5pt\">Protocol/Feature Extraction</p>\n",
    "<strong>Extracted Features</strong>\n",
    "<ul>\n",
    "    <li><span style=\"color:#E84D0E\"><strong>[From] EMG signal</strong></span></li>\n",
    "    <ul>\n",
    "        <li>Standard Deviation &#9734;</li>\n",
    "        <li>Maximum sampled value &#9757;</li>\n",
    "       <li><a href=\"https://en.wikipedia.org/wiki/Zero-crossing_rate\">Zero-Crossing Rate</a> &#9740;</li>\n",
    "        <li>Standard Deviation of the absolute signal &#9735;</li>\n",
    "    </ul>\n",
    "    <li><span style=\"color:#FDC400\"><strong>[From] ACC signal</strong></span></li>\n",
    "    <ul>\n",
    "        <li>Average Value &#9737;</li>\n",
    "        <li>Standard Deviation &#9734;</li>\n",
    "        <li>Maximum sampled value &#9757;</li>\n",
    "        <li><a href=\"https://en.wikipedia.org/wiki/Zero-crossing_rate\">Zero-Crossing Rate</a> &#9740;</li>\n",
    "        <li><a href=\"https://en.wikipedia.org/wiki/Slope\">Slope of the regression curve</a> &#9741;</li>\n",
    "    </ul>\n",
    "</ul>\n",
    "\n",
    "<strong>Formal definition of parameters</strong>\n",
    "<br>\n",
    "&#9757; | Maximum Sample Value of a set of elements is equal to the last element of the sorted set\n",
    "\n",
    "&#9737; | $\\mu = \\frac{1}{N}\\sum_{i=1}^N (sample_i)$\n",
    "\n",
    "&#9734; | $\\sigma = \\sqrt{\\frac{1}{N}\\sum_{i=1}^N(sample_i - \\mu_{signal})^2}$\n",
    "\n",
    "&#9740; | $zcr = \\frac{1}{N - 1}\\sum_{i=1}^{N-1}bin(i)$ \n",
    "\n",
    "&#9735; | $\\sigma_{abs} = \\sqrt{\\frac{1}{N}\\sum_{i=1}^N(|sample_i| - \\mu_{signal_{abs}})^2}$\n",
    "\n",
    "&#9741; | $m = \\frac{\\Delta signal}{\\Delta t}$\n",
    "\n",
    "... being $N$ the number of acquired samples (that are part of the signal), $sample_i$ the value of the sample number $i$, $signal_{abs}$ the absolute signal, $\\Delta signal$ is the difference between the y coordinate of two points of the regression curve and $\\Delta t$ the difference between the x (time) coordinate of the same two points of the regression curve.\n",
    "\n",
    "... and \n",
    "\n",
    "$bin(i)$ a binary function defined as:\n",
    "\n",
    "$bin(i) = \\begin{cases} 1, & \\mbox{if } signal_i \\times signal_{i-1} \\leq 0 \\\\ 0, & \\mbox{if } signal_i \\times signal_{i-1}>0 \\end{cases}$\n",
    "<hr>"
   ]
  },
  {
   "cell_type": "markdown",
   "metadata": {},
   "source": [
    "<p class=\"steps\">0 - Import of the needed packages for a correct execution of the current <span class=\"color4\">Jupyter Notebook</span></p>"
   ]
  },
  {
   "cell_type": "code",
   "execution_count": null,
   "metadata": {
    "tags": [
     "hide_out"
    ]
   },
   "outputs": [],
   "source": [
    "# Package that ensures a programatically interaction with operating system folder hierarchy.\n",
    "from os import listdir\n",
    "\n",
    "# Package used for clone a dictionary.\n",
    "from copy import deepcopy\n",
    "\n",
    "# Functions intended to extract some statistical parameters.\n",
    "from numpy import max, std, average, sum, absolute\n",
    "\n",
    "# With the following import we will be able to extract the linear regression parameters after \n",
    "# fitting experimental points to the model.\n",
    "from scipy.stats import linregress\n",
    "\n",
    "# biosignalsnotebooks own package that supports some functionalities used on the Jupyter Notebooks.\n",
    "import biosignalsnotebooks as bsnb"
   ]
  },
  {
   "cell_type": "markdown",
   "metadata": {},
   "source": [
    "<p class=\"steps\">1 - Loading of all signals that integrates our training samples (storing them inside a dictionary)</p>\n",
    "The acquired signals are stored inside a folder which can be accessed through a relative path <span class=\"color7\">\"../../signal_samples/classification_game/data\"</span>"
   ]
  },
  {
   "cell_type": "markdown",
   "metadata": {},
   "source": [
    "<p class=\"steps\">1.1 - Identification of the list of files/examples</p>"
   ]
  },
  {
   "cell_type": "code",
   "execution_count": null,
   "metadata": {},
   "outputs": [],
   "source": [
    "# Transposition of data from signal files to a Python dictionary.\n",
    "relative_path = \"../../signal_samples/classification_game\"\n",
    "data_folder = \"data\"\n",
    "\n",
    "# List of files (each file is a training example).\n",
    "list_examples = listdir(relative_path + \"/\" + data_folder)"
   ]
  },
  {
   "cell_type": "code",
   "execution_count": null,
   "metadata": {
    "tags": [
     "hide_in"
    ]
   },
   "outputs": [],
   "source": [
    "print(list_examples)"
   ]
  },
  {
   "cell_type": "markdown",
   "metadata": {},
   "source": [
    "The first digit of filename identifies the class to which the training example belongs and the second digit is the trial number <span class=\"color1\">(<i>&lt;class&gt;_&lt;trial&gt;.txt</i>)</span>"
   ]
  },
  {
   "cell_type": "markdown",
   "metadata": {},
   "source": [
    "<p class=\"steps\">1.2 - Access the content of each file and store it on the respective dictionary entry</p>"
   ]
  },
  {
   "cell_type": "code",
   "execution_count": null,
   "metadata": {},
   "outputs": [],
   "source": [
    "# Initialization of dictionary.\n",
    "signal_dict = {}\n",
    "\n",
    "# Scrolling through each entry in the list.\n",
    "for example in list_examples:\n",
    "    if \".txt\" in example: # Read only .txt files.\n",
    "        # Get the class to which the training example under analysis belong.\n",
    "        example_class = example.split(\"_\")[0]\n",
    "\n",
    "        # Get the trial number of the training example under analysis.\n",
    "        example_trial = example.split(\"_\")[1].split(\".\")[0]\n",
    "\n",
    "        # Creation of a new \"class\" entry if it does not exist.\n",
    "        if example_class not in signal_dict.keys():\n",
    "            signal_dict[example_class] = {}\n",
    "\n",
    "        # Load data.\n",
    "        complete_data = bsnb.load(relative_path + \"/\" + data_folder + \"/\" + example)\n",
    "\n",
    "        # Store data in the dictionary.\n",
    "        signal_dict[example_class][example_trial] = complete_data"
   ]
  },
  {
   "cell_type": "markdown",
   "metadata": {},
   "source": [
    "<p class=\"steps\">1.3 - Definition of the content of each channel</p>"
   ]
  },
  {
   "cell_type": "code",
   "execution_count": null,
   "metadata": {},
   "outputs": [],
   "source": [
    "# Channels (CH1 Flexor digitorum superficialis | CH2 Aductor policis | CH3 Accelerometer axis Z).\n",
    "emg_flexor = \"CH1\"\n",
    "emg_adductor = \"CH2\"\n",
    "acc_z = \"CH3\""
   ]
  },
  {
   "cell_type": "markdown",
   "metadata": {},
   "source": [
    "<p class=\"steps\">2 - Extraction of features according to the signal under analysis</p>\n",
    "The extracted values of each feature will be stored in a dictionary with the same hierarchical structure as \"signal_dict\""
   ]
  },
  {
   "cell_type": "code",
   "execution_count": null,
   "metadata": {},
   "outputs": [],
   "source": [
    "# Clone \"signal_dict\".\n",
    "features_dict = deepcopy(signal_dict)\n",
    "\n",
    "# Navigate through \"signal_dict\" hierarchy.\n",
    "list_classes = signal_dict.keys()\n",
    "for class_i in list_classes:\n",
    "    list_trials = signal_dict[class_i].keys()\n",
    "    for trial in list_trials:\n",
    "        # Initialise \"features_dict\" entry content.\n",
    "        features_dict[class_i][trial] = []\n",
    "        \n",
    "        for chn in [emg_flexor, emg_adductor, acc_z]:\n",
    "            # Temporary storage of signal inside a reusable variable.\n",
    "            signal = signal_dict[class_i][trial][chn]\n",
    "            \n",
    "            # Start the feature extraction procedure accordingly to the channel under analysis.\n",
    "            if chn == emg_flexor or chn == emg_adductor: # EMG Features.\n",
    "                # Converted signal (taking into consideration that our device is a \"biosignalsplux\", the resolution is\n",
    "                # equal to 16 bits and the output unit should be in \"mV\").\n",
    "                signal = bsnb.raw_to_phy(\"EMG\", device=\"biosignalsplux\", raw_signal=signal, resolution=16, option=\"mV\")\n",
    "                \n",
    "                # Standard Deviation.\n",
    "                features_dict[class_i][trial] += [std(signal)]\n",
    "                # Maximum Value.\n",
    "                features_dict[class_i][trial] += [max(signal)]\n",
    "                # Zero-Crossing Rate.\n",
    "                features_dict[class_i][trial] += [sum([1 for i in range(1, len(signal)) \n",
    "                                                       if signal[i]*signal[i-1] <= 0]) / (len(signal) - 1)]\n",
    "                # Standard Deviation of the absolute signal.\n",
    "                features_dict[class_i][trial] += [std(absolute(signal))]\n",
    "            else: # ACC Features.\n",
    "                # Converted signal (taking into consideration that our device is a \"biosignalsplux\", the resolution is\n",
    "                # equal to 16 bits and the output unit should be in \"g\").\n",
    "                signal = bsnb.raw_to_phy(\"ACC\", device=\"biosignalsplux\", raw_signal=signal, resolution=16, option=\"g\")\n",
    "                \n",
    "                # Average value.\n",
    "                features_dict[class_i][trial] += [average(signal)]\n",
    "                # Standard Deviation.\n",
    "                features_dict[class_i][trial] += [std(signal)]\n",
    "                # Maximum Value.\n",
    "                features_dict[class_i][trial] += [max(signal)]\n",
    "                # Zero-Crossing Rate.\n",
    "                features_dict[class_i][trial] += [sum([1 for i in range(1, len(signal)) \n",
    "                                                       if signal[i]*signal[i-1] <= 0]) / (len(signal) - 1)]\n",
    "                # Slope of the regression curve.\n",
    "                x_axis = range(0, len(signal))\n",
    "                features_dict[class_i][trial] += [linregress(x_axis, signal)[0]]"
   ]
  },
  {
   "cell_type": "markdown",
   "metadata": {},
   "source": [
    "Each training array has the following structure/content:\n",
    "<br>\n",
    "\\[$\\sigma_{emg\\,flexor}$, $max_{emg\\,flexor}$, $zcr_{emg\\,flexor}$, $\\sigma_{emg\\,flexor}^{abs}$, $\\sigma_{emg\\,adductor}$, $max_{emg\\,adductor}$, $zcr_{emg\\,adductor}$, $\\sigma_{emg\\,adductor}^{abs}$, $\\mu_{acc\\,z}$, $\\sigma_{acc\\,z}$, $max_{acc\\,z}$, $zcr_{acc\\,z}$, $m_{acc\\,z}$\\] "
   ]
  },
  {
   "cell_type": "markdown",
   "metadata": {
    "tags": [
     "hide_mark"
    ]
   },
   "source": [
    "<p class=\"steps\">3 - Storage of the content inside the filled \"features_dict\" to an external file (<a href=\"https://fileinfo.com/extension/json\">.json <img src=\"../../images/icons/link.png\" width=\"10px\" height=\"10px\" style=\"display:inline\"></a>)</p>\n",
    "With this procedure it is possible to ensure a \"permanent\" memory of the results produced during feature extraction, reusable in the future by simple reading the file (without the need to reprocess again)."
   ]
  },
  {
   "cell_type": "code",
   "execution_count": null,
   "metadata": {
    "tags": [
     "hide_in"
    ]
   },
   "outputs": [],
   "source": [
    "# Package dedicated to the manipulation of json files.\n",
    "from json import dump\n",
    "\n",
    "filename = \"classification_game_features.json\"\n",
    "\n",
    "# Generation of .json file in our previously mentioned \"relative_path\".\n",
    "# [Generation of new file]\n",
    "with open(relative_path + \"/features/\" + filename, 'w') as file:\n",
    "    dump(features_dict, file)"
   ]
  },
  {
   "cell_type": "markdown",
   "metadata": {},
   "source": [
    "We reach the end of the \"Classification Game\" second volume. Now all the features of training examples are in our possession.\n",
    "If you are feeling your interest increasing, please jump to the next <a href=\"../Train_and_Classify/classification_game_volume_3.ipynb\">volume <img src=\"../../images/icons/link.png\" width=\"10px\" height=\"10px\" style=\"display:inline\"></a>\n",
    "\n",
    "<strong><span class=\"color7\">We hope that you have enjoyed this guide. </span><span class=\"color2\">biosignalsnotebooks</span><span class=\"color4\"> is an environment in continuous expansion, so don't stop your journey and learn more with the remaining <a href=\"../MainFiles/biosignalsnotebooks.ipynb\">Notebooks <img src=\"../../images/icons/link.png\" width=\"10px\" height=\"10px\" style=\"display:inline\"></a></span></strong> !"
   ]
  },
  {
   "cell_type": "markdown",
   "metadata": {
    "tags": [
     "hide_mark",
     "aux"
    ]
   },
   "source": [
    "<span class=\"color6\">**Auxiliary Code Segment (should not be replicated by\n",
    "the user)**</span>"
   ]
  },
  {
   "cell_type": "code",
   "execution_count": null,
   "metadata": {
    "tags": [
     "hide_both"
    ]
   },
   "outputs": [],
   "source": [
    "from biosignalsnotebooks.__notebook_support__ import css_style_apply\n",
    "css_style_apply()"
   ]
  },
  {
   "cell_type": "code",
   "execution_count": null,
   "metadata": {
    "tags": [
     "hide_both"
    ]
   },
   "outputs": [],
   "source": [
    "%%html\n",
    "<script>\n",
    "    // AUTORUN ALL CELLS ON NOTEBOOK-LOAD!\n",
    "    require(\n",
    "        ['base/js/namespace', 'jquery'],\n",
    "        function(jupyter, $) {\n",
    "            $(jupyter.events).on(\"kernel_ready.Kernel\", function () {\n",
    "                console.log(\"Auto-running all cells-below...\");\n",
    "                jupyter.actions.call('jupyter-notebook:run-all-cells-below');\n",
    "                jupyter.actions.call('jupyter-notebook:save-notebook');\n",
    "            });\n",
    "        }\n",
    "    );\n",
    "</script>"
   ]
  }
 ],
 "metadata": {
  "celltoolbar": "Tags",
  "kernelspec": {
   "display_name": "Python 3",
   "language": "python",
   "name": "python3"
  },
  "language_info": {
   "codemirror_mode": {
    "name": "ipython",
    "version": 3
   },
   "file_extension": ".py",
   "mimetype": "text/x-python",
   "name": "python",
   "nbconvert_exporter": "python",
   "pygments_lexer": "ipython3",
   "version": "3.7.2"
  }
 },
 "nbformat": 4,
 "nbformat_minor": 2
}
