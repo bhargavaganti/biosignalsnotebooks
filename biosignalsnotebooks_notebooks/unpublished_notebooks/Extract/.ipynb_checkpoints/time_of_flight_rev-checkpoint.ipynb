{
 "cells": [
  {
   "cell_type": "markdown",
   "metadata": {
    "tags": [
     "header"
    ]
   },
   "source": [
    "<table width=\"100%\">\n",
    "    <tr style=\"border-bottom:solid 2pt #009EE3\">\n",
    "        <td style=\"text-align:left\" width=\"10%\">\n",
    "            <a href=\"FILENAME\" download><img src=\"../../images/icons/download.png\"></a>\n",
    "        </td>\n",
    "        <td style=\"text-align:left\" width=\"10%\">\n",
    "            <a href=\"SOURCE\" target=\"_blank\"><img src=\"../../images/icons/program.png\" title=\"Be creative and test your solutions !\"></a>\n",
    "        </td>\n",
    "        <td></td>\n",
    "        <td style=\"text-align:left\" width=\"5%\">\n",
    "            <a href=\"../MainFiles/biosignalsnotebooks.ipynb\"><img src=\"../../images/icons/home.png\"></a>\n",
    "        </td>\n",
    "        <td style=\"text-align:left\" width=\"5%\">\n",
    "            <a href=\"../MainFiles/contacts.ipynb\"><img src=\"../../images/icons/contacts.png\"></a>\n",
    "        </td>\n",
    "        <td style=\"text-align:left\" width=\"5%\">\n",
    "            <a href=\"https://github.com/biosignalsnotebooks/biosignalsnotebooks\" target=\"_blank\"><img src=\"../../images/icons/github.png\"></a>\n",
    "        </td>\n",
    "        <td style=\"border-left:solid 2pt #009EE3\" width=\"15%\">\n",
    "            <img src=\"../../images/ost_logo.png\">\n",
    "        </td>\n",
    "    </tr>\n",
    "</table>"
   ]
  },
  {
   "cell_type": "markdown",
   "metadata": {
    "tags": [
     "intro_info_title"
    ]
   },
   "source": [
    "<link rel=\"stylesheet\" href=\"../../styles/theme_style.css\">\n",
    "<!--link rel=\"stylesheet\" href=\"../../styles/header_style.css\"-->\n",
    "<link rel=\"stylesheet\" href=\"https://cdnjs.cloudflare.com/ajax/libs/font-awesome/4.7.0/css/font-awesome.min.css\">\n",
    "\n",
    "<table width=\"100%\">\n",
    "    <tr>\n",
    "        <td id=\"image_td\" width=\"15%\" class=\"header_image_color_6\"><div id=\"image_img\"\n",
    "        class=\"header_image_6\"></div></td>\n",
    "        <td class=\"header_text\"> Calculate Time of Flight </td>\n",
    "    </tr>\n",
    "</table>"
   ]
  },
  {
   "cell_type": "markdown",
   "metadata": {
    "tags": [
     "intro_info_tags"
    ]
   },
   "source": [
    "<div id=\"flex-container\">\n",
    "    <div id=\"diff_level\" class=\"flex-item\">\n",
    "        <strong>Difficulty Level:</strong>   <span class=\"fa fa-star checked\"></span>\n",
    "                                <span class=\"fa fa-star checked\"></span>\n",
    "                                <span class=\"fa fa-star checked\"></span>\n",
    "                                <span class=\"fa fa-star checked\"></span>\n",
    "                                <span class=\"fa fa-star\"></span>\n",
    "    </div>\n",
    "    <div id=\"tag\" class=\"flex-item-tag\">\n",
    "        <span id=\"tag_list\">\n",
    "            <table id=\"tag_list_table\">\n",
    "                <tr>\n",
    "                    <td class=\"shield_left\">Tags</td>\n",
    "                    <td class=\"shield_right\" id=\"tags\">extract&#9729;pre-process&#9729;accelerometer&#9729;force platform</td>\n",
    "                </tr>\n",
    "            </table>\n",
    "        </span>\n",
    "        <!-- [OR] Visit https://img.shields.io in order to create a tag badge-->\n",
    "    </div>\n",
    "</div>"
   ]
  },
  {
   "cell_type": "markdown",
   "metadata": {
    "tags": [
     "test"
    ]
   },
   "source": [
    "Jumping is an <span class=\"color1\"><a href=https://ojs.ub.uni-konstanz.de/cpa/article/view/2325>important task<img src=\"../../images/icons/link.png\" width=\"10px\" height=\"10px\" style=\"display:inline\"></a></span> to assess the physical health of individuals, particularly in athletes. There are many features that may be studied in each jump, such as the time of flight or loft. This particular feature may indicate the muscle strength of the lower body in relation to the weight of the athlete and can be used as an assessment for the training plan of the said athlete.\n",
    "\n",
    "The current <span class=\"color4\"><strong>Jupyter Notebook</strong></span> focuses on the presentation of a method to extract the loft time using either an <strong><a href=https://plux.info/sensors/264-accelerometer-acc-820201205.html>acceleration signal<img src=\"../../images/icons/link.png\" width=\"10px\" height=\"10px\" style=\"display:inline\"></a></strong> or a <strong><a href=https://plux.info/sensors/288-force-platform-820202504.html>force signal<img src=\"../../images/icons/link.png\" width=\"10px\" height=\"10px\" style=\"display:inline\"></a></strong> of different sensors. "
   ]
  },
  {
   "cell_type": "markdown",
   "metadata": {},
   "source": [
    "<hr>"
   ]
  },
  {
   "cell_type": "markdown",
   "metadata": {},
   "source": [
    "<p class=\"steps\">1 - Acquisition Procedure</p>\n",
    "<strong><span class=\"color1\">In order to assess the loft time and extract the multiple features from the accelerometer and force platform, we first need to define a replicable protocol.</span></strong>\n",
    "<br>In this case, we taped the accelerometer to the lower back of the subject in order to be as close as possible to the center of mass. Thus, we can track the exact accelerometry of the subject and have a higher degree of certainty regarding their movements. Furthermore, the subjects jumped vertically on the force platform without any horizontal movement."
   ]
  },
  {
   "cell_type": "markdown",
   "metadata": {},
   "source": [
    "<table style=\"width:12%\">\n",
    "  <tr>\n",
    "    <td><img src=\"../../images/extract/loft_time/loft_time_gui.gif\" height=\"326\" controls></td>\n",
    "  </tr>\n",
    "</table>"
   ]
  },
  {
   "cell_type": "markdown",
   "metadata": {},
   "source": [
    "<p class=\"steps\">2 - Load Signals</p>\n",
    "<strong><span class=\"color1\">In this section we will show how to load the signals using the biosignalsnotebooks Python package.</span></strong>"
   ]
  },
  {
   "cell_type": "markdown",
   "metadata": {},
   "source": [
    "<p class=\"steps\">2.1 - Import the required packages</p>"
   ]
  },
  {
   "cell_type": "code",
   "execution_count": null,
   "metadata": {
    "tags": [
     "hide_out"
    ]
   },
   "outputs": [],
   "source": [
    "import biosignalsnotebooks as bsnb\n",
    "import numpy as np"
   ]
  },
  {
   "cell_type": "markdown",
   "metadata": {},
   "source": [
    "<p class=\"steps\">2.2 - Load the signals</p>\n",
    "Given that the acquisitions involved two devices - the force platform and a <strong><span class=\"color2\">biosignalsplux</span></strong> accelerometer - we need to load the signals from both of them. Fortunately, the signals are stored in a single file, therefore, we only need to load it once. After that, we need to extract the signals of each device from the file given the <i>mac address</i>."
   ]
  },
  {
   "cell_type": "code",
   "execution_count": null,
   "metadata": {},
   "outputs": [],
   "source": [
    "# Define the path of the file that has the signals of each device\n",
    "path_subject_1 = \"../../signal_samples/loft_time_subject_1.h5\"\n",
    "\n",
    "# Load the data from the file\n",
    "data_1 = bsnb.load(path_subject_1)\n",
    "\n",
    "# Identify the mac addresses of each device\n",
    "force_platform_1, accelerometer_1 = data_1.keys()\n",
    "\n",
    "# Get the signals acquired by the force_platform\n",
    "force_platform_signals_1 = data_1[force_platform_1]\n",
    "\n",
    "# Get the signals acquired by the accelerometer\n",
    "accelerometer_signals_1 = data_1[accelerometer_1]"
   ]
  },
  {
   "cell_type": "markdown",
   "metadata": {},
   "source": [
    "Each device acquired a different number of channels, corresponding to different signals. \n",
    "<br>Specifically, the force platform acquired data using four channels, while the accelerometer acquired data on three channels corresponding to each tridimensional axis.\n",
    "\n",
    "<strong><span class=\"color1\">The next cells will show how to get the data from each device and from each channel of each device.</span></strong>\n",
    "<br> For that, we will first initiate different lists for different devices and different experiments. Then, we will iterate over each channel of each device and store those signals in the corresponding list."
   ]
  },
  {
   "cell_type": "markdown",
   "metadata": {},
   "source": [
    "<p class=\"steps\">2.3 - Initialization of lists that will store the physiological data contained inside the loaded file</p>"
   ]
  },
  {
   "cell_type": "code",
   "execution_count": null,
   "metadata": {},
   "outputs": [],
   "source": [
    "# These are the lists where we will store the signals from each channels of the force platform of each experiment.\n",
    "# They are initiated as empty lists so we can append items to them.\n",
    "force_platform_channels_1 = []\n",
    "\n",
    "# And these are the lists where we will store the signals from each direction of the accelerometer of each experiment.\n",
    "accelerometer_direction_1 = []"
   ]
  },
  {
   "cell_type": "markdown",
   "metadata": {},
   "source": [
    "<p class=\"steps\">2.4 - Populate the initialized lists</p>\n",
    "This is the part where we get the signal from each channel and append it to the corresponding list.\n",
    "<br>The syntax of the following code lines may be a bit odd at first sight, so we recommend you to read: <a href=\"https://realpython.com/iterate-through-dictionary-python/\">https://realpython.com/iterate-through-dictionary-python/</a>"
   ]
  },
  {
   "cell_type": "markdown",
   "metadata": {},
   "source": [
    "<strong><span class=\"color2\">Force Platform</span></strong>"
   ]
  },
  {
   "cell_type": "code",
   "execution_count": null,
   "metadata": {},
   "outputs": [],
   "source": [
    "# Basically, force_platform_signals_1.keys() is a strutucture that iterates over the channels of the force platform device.\n",
    "for channel in force_platform_signals_1.keys():\n",
    "    # First, we get the signal of the channel\n",
    "    channel_signal_1 = force_platform_signals_1[channel]\n",
    "    # Then append the signal to the list that will contain the signals.\n",
    "    force_platform_channels_1.append(channel_signal_1)"
   ]
  },
  {
   "cell_type": "markdown",
   "metadata": {},
   "source": [
    "<strong><span class=\"color7\">Accelerometer</span></strong>"
   ]
  },
  {
   "cell_type": "code",
   "execution_count": null,
   "metadata": {},
   "outputs": [],
   "source": [
    "# Now we need to do the same for the accelerometer. Note that the code is very similar compared to the force platform.\n",
    "for direction in accelerometer_signals_1.keys():\n",
    "    direction_signal_1 = accelerometer_signals_1[direction]\n",
    "    accelerometer_direction_1.append(direction_signal_1)"
   ]
  },
  {
   "cell_type": "markdown",
   "metadata": {},
   "source": [
    "<table width=\"100%\">\n",
    "    <tr>\n",
    "        <td width=\"40%\" style=\"text-align:center\">\n",
    "            <hr>\n",
    "        </td>\n",
    "        <td width=\"10%\" style=\"text-align:center\">\n",
    "            CHECKPOINT\n",
    "        </td>\n",
    "        <td width=\"40%\" style=\"text-align:center\">\n",
    "            <hr>\n",
    "        </td>\n",
    "    </tr>\n",
    "</table>"
   ]
  },
  {
   "cell_type": "markdown",
   "metadata": {},
   "source": [
    "The next plots are intended to show the signals generated by the force platform. \n",
    "\n",
    "Here, they were trimmed to show only the part that interests us, which is the jump, and we can clearly see that it has a remarkable shape: first the signals are stable, meaning that the subject is at rest. Then, when the subjects start to flex their legs, the signal increases, meaning that there is a rising force being applied to the platform. \n",
    "\n",
    "The minimum force applied during the flex corresponds to the position of maximum flex of the legs, in which the force on the platform is reduced. Then, there is a significant increase of the signal that corresponds to the increasing force being applied as the legs start to stretch to lift the whole body. The next segment of the signal, corresponding of 0's, is the time interval when the feet leave the platform and, so, there is no pressure on it. The next structure, composed of a peak and a valley corresponds to the landing part of the jump.\n",
    "\n",
    "<strong><span class=\"color7\">Note:</span></strong> Of course this is an estimate, because when no force is being applied, the platform still has to go back to the baseline position, in which it still detects some force, creating a bias. One way to take that into consideration would be to increase the threshold that flags the \"no force\" state, when no force is being applied to the platform."
   ]
  },
  {
   "cell_type": "code",
   "execution_count": null,
   "metadata": {
    "tags": [
     "hide_in"
    ]
   },
   "outputs": [],
   "source": [
    "fs = 500\n",
    "time = bsnb.generate_time(force_platform_signals_1['CH1'], fs)\n",
    "\n",
    "begin_1 = 19*fs\n",
    "end_1 = 23*fs\n",
    "\n",
    "times_1 = []\n",
    "force_platform_channels_1 = []\n",
    "for key in force_platform_signals_1.keys():\n",
    "    times_1.append(time[begin_1:end_1])\n",
    "    force_platform_channels_1.append(force_platform_signals_1[key][begin_1:end_1])\n",
    "\n",
    "tr_1 = np.min(force_platform_channels_1[0]) + np.ptp(force_platform_channels_1[0])*.01\n",
    "index_1 = np.where(force_platform_channels_1[0] < tr_1)[0]\n",
    "index_1 = (np.array([index_1[a] for a in [0, -1]]) + begin_1)/fs\n",
    "\n",
    "bsnb.plot(times_1, force_platform_channels_1, grid_plot=True, grid_lines=2, grid_columns=2, x_axis_label='Time (s)', \n",
    "          vert_lines=[index_1, index_1, index_1, index_1], y_axis_label='Raw Data',\n",
    "          title=[\"Channel 1\", \"Channel 2\", \"Channel 3\", \"Channel 4\"])"
   ]
  },
  {
   "cell_type": "markdown",
   "metadata": {},
   "source": [
    "For the accelerometer, the signals are not as clear as the ones generated by the force platform, but may still be valid to assess the loft time. \n",
    "\n",
    "Essentially, we can look at each axis to see the differences between the rest state and the jump. For example, on the <strong><span class=\"color2\">x axis</span></strong>, we see an increase of the variance of the acceleration during the jump; in the <strong><span class=\"color5\">y axis</span></strong> we see a similar structure as the one seen in the force platform; in the <strong><span class=\"color7\">z axis</span></strong> the structure seems a mix of the x and y axis. \n",
    "\n",
    "The problem with this analysis, is that it depends on the placement of the accelerometer, therefore, we should be able to do the analysis regardless of the said placement. In order to do that, we calculated the magnitude of the signal, which corresponds to the combination of the 3 axis to generate one signal that is equally influenced by each signal, as expressed in the next expression:\n",
    "\n",
    "<div align=center> $ magnitude = \\sqrt{x^2 + y^2 + z^2} $ </div>\n",
    "\n",
    "In the calculus of the squared value of each direction, we subtract the mean and add the minimum value of all axis in order to normalize the signals. This way, we guarantee that no axis has more influence than the rest due to a baseline acceleration, such as, gravity. We also guarantee that all signals are positive."
   ]
  },
  {
   "cell_type": "markdown",
   "metadata": {},
   "source": [
    "<table width=\"100%\">\n",
    "    <tr>\n",
    "        <td width=\"40%\" style=\"text-align:center\">\n",
    "            <hr>\n",
    "        </td>\n",
    "        <td width=\"10%\" style=\"text-align:center\">\n",
    "            END OF CHECKPOINT\n",
    "        </td>\n",
    "        <td width=\"40%\" style=\"text-align:center\">\n",
    "            <hr>\n",
    "        </td>\n",
    "    </tr>\n",
    "</table>"
   ]
  },
  {
   "cell_type": "code",
   "execution_count": null,
   "metadata": {},
   "outputs": [],
   "source": []
  },
  {
   "cell_type": "code",
   "execution_count": null,
   "metadata": {},
   "outputs": [],
   "source": [
    "# These first lines will get each direction that are required to calculate the magnitude.\n",
    "experiment_1_direction_x = np.array(accelerometer_direction_1[0])\n",
    "experiment_1_direction_y = np.array(accelerometer_direction_1[1])\n",
    "experiment_1_direction_z = np.array(accelerometer_direction_1[2])\n",
    "\n",
    "# Now, we need to calculate the square of each normalised direction\n",
    "experiment_1_direction_x_squared = (experiment_1_direction_x - np.mean(experiment_1_direction_x) + np.min([accelerometer_direction_1]))**2\n",
    "experiment_1_direction_y_squared = (experiment_1_direction_y - np.mean(experiment_1_direction_y) + np.min([accelerometer_direction_1]))**2\n",
    "experiment_1_direction_z_squared = (experiment_1_direction_z - np.mean(experiment_1_direction_z) + np.min([accelerometer_direction_1]))**2\n",
    "\n",
    "# The next step is to sum them\n",
    "sum_all_direction_squared_1 = experiment_1_direction_x_squared + experiment_1_direction_y_squared + experiment_1_direction_z_squared\n",
    "\n",
    "# And finaly apply the square root\n",
    "magnitude_1 = np.sqrt(sum_all_direction_squared_1)\n",
    "\n",
    "\n",
    "# Given the step by step explanation, we will now show how to do the same in a shorter way for the second experiment.\n",
    "\n",
    "# Iterate over all directions and add the noramlised squared value of them to a variable\n",
    "all_direction_squared_2 = []\n",
    "for direction in accelerometer_direction_2:\n",
    "    experiment_2_direction_squared = (np.array(direction) - np.mean(direction) + np.min(accelerometer_direction_2))**2\n",
    "    all_direction_squared_2.append(experiment_2_direction_squared)\n",
    "\n",
    "# Sum the square of each direction\n",
    "sum_all_direction_squared_2 = np.sum(all_direction_squared_2, axis=0)\n",
    "    \n",
    "# Calculate the square root operation to the sum of the square of each direction\n",
    "magnitude_2 = np.sqrt(sum_all_direction_squared_2)"
   ]
  },
  {
   "cell_type": "markdown",
   "metadata": {},
   "source": [
    "On the magnitude signal, we see the gathered influence of each axis that does not depend on the orientation of the sensor while acquiring data."
   ]
  },
  {
   "cell_type": "markdown",
   "metadata": {},
   "source": [
    "<strong><span class=\"color2\">&gt;&gt;&gt;&gt;&gt;&gt; Subject 1</span></strong>"
   ]
  },
  {
   "cell_type": "code",
   "execution_count": null,
   "metadata": {
    "tags": [
     "hide_in"
    ]
   },
   "outputs": [],
   "source": [
    "accelerometer_direction_1 = []\n",
    "for channel in accelerometer_signals_1.keys():\n",
    "    accelerometer_direction_1.append(accelerometer_signals_1[channel][begin_1:end_1])\n",
    "\n",
    "magnitude_1 = magnitude_1[begin_1:end_1]\n",
    "accelerometer_direction_1.append(magnitude_1)\n",
    "\n",
    "bsnb.plot(times_1, accelerometer_direction_1, grid_plot=True, grid_lines=2, grid_columns=2, x_axis_label='Time (s)', \n",
    "          vert_lines=[index_1, index_1, index_1, index_1],\n",
    "          y_axis_label='Raw Data', title=[\"x Axis\", \"y Axis\", \"z Axis\", \"Magnitude of the Axis\"])"
   ]
  },
  {
   "cell_type": "markdown",
   "metadata": {},
   "source": [
    "<strong><span class=\"color7\">&gt;&gt;&gt;&gt;&gt;&gt; Subject 2</span></strong>"
   ]
  },
  {
   "cell_type": "code",
   "execution_count": null,
   "metadata": {
    "tags": [
     "hide_in"
    ]
   },
   "outputs": [],
   "source": [
    "accelerometer_direction_2 = []\n",
    "\n",
    "for key in accelerometer_signals_2.keys():\n",
    "    accelerometer_direction_2.append(accelerometer_signals_2[key][begin_2:end_2])\n",
    "\n",
    "magnitude_2 = magnitude_2[begin_2:end_2]\n",
    "accelerometer_direction_2.append(magnitude_2)\n",
    "\n",
    "bsnb.plot(times_2, accelerometer_direction_2, grid_plot=True, grid_lines=2, grid_columns=2, x_axis_label='Time (s)', \n",
    "          vert_lines=[index_2, index_2, index_2, index_2], y_axis_label='Raw Data',\n",
    "          title=[\"x Axis\", \"y Axis\", \"z Axis\", \"Magnitude of the Axis\"])"
   ]
  },
  {
   "cell_type": "markdown",
   "metadata": {},
   "source": [
    "The previous statement is valid for both experiments. The reason to include two experiments instead of only one, in this <span class=\"color4\"><strong>Jupyter Notebook</strong></span>, is related with the fact that, even though the protocol was the same for both, the signals acquired for the different experiments are very different. \n",
    "\n",
    "Specifically, on the first experiment the flight time corresponds to a valley on the magnitude signal while in the second case, the flight time is represented by a rise and quasi-plateau on the signal that then decreases again. Thus, our approach has to be generic enough to have both behaviors into account."
   ]
  },
  {
   "cell_type": "markdown",
   "metadata": {},
   "source": [
    "<p class=\"steps\">3 - Signal Analysis</p>\n",
    "<strong><span class=\"color1\">Following the eye analysis and structures identification, we can start to computationally identify the structures that indicate the beginning and ending of the jump.</span></strong>\n",
    "<br>Specifically, though the difference between the signals, we saw that the flight time corresponds to a plateau in each signal - one of them is a positive plateau and the other one is a negative plateau."
   ]
  },
  {
   "cell_type": "markdown",
   "metadata": {},
   "source": [
    "The loft time corresponds to the time the subject is not touching the platform, which is identifiable as the plateau between the peaks that correspond to the jumping and landing. \n",
    "<br>In the case of the <strong>first experiment</strong>, the loft time is estimated to be <strong>0.340 seconds</strong> while in the <strong>second experiment</strong> the loft time is estimated to be <strong>0.404 seconds</strong> (refer to the figures of the previous section). \n",
    "\n",
    "In this section, we will explain how to implement an algorithm that may be able to calculate those times using the accelerometer signal."
   ]
  },
  {
   "cell_type": "markdown",
   "metadata": {},
   "source": [
    "<p class=\"steps\">3.1 - Algorithm Description</p>\n",
    "\n",
    "The algorithm is based on the structure of the plateaus. The plateaus, shown in the figures below will help us to analyze the general case."
   ]
  },
  {
   "cell_type": "markdown",
   "metadata": {},
   "source": [
    "<table style=\"width:100%\">\n",
    "  <tr>\n",
    "    <td>\n",
    "        <figure>\n",
    "          <img src=\"../../images/extract/loft_time/positive_plateau.png\" height=\"1000\">\n",
    "          <figcaption style=\"text-align: center\">Positive Plateau.</figcaption>\n",
    "        </figure>\n",
    "      </td>\n",
    "      <td>\n",
    "        <figure>\n",
    "          <img src=\"../../images/extract/loft_time/negative_plateau.png\" height=\"1000\">\n",
    "          <figcaption style=\"text-align: center\">Negative Plateau.</figcaption>\n",
    "        </figure>\n",
    "      </td>\n",
    "  </tr>\n",
    "</table>"
   ]
  },
  {
   "cell_type": "markdown",
   "metadata": {},
   "source": [
    "<span class=\"color4\"><strong>Positive Plateau</strong></span>\n",
    "<br>We will analyze each specific point and all the structures around them.\n",
    "<ul>\n",
    "  <li>On the left side of point number 1 there is a high positive slope, meaning that it has a high and positive derivate while on the right side the signal is constant, meaning the derivate is 0 or very low.</li>\n",
    "  <li>On number 2 there is only one condition, which is that the signal is always constant, so, the derivate is 0 or very low.</li>\n",
    "  <li>On the left of point number 3 the signal is constant and, therefore, the derivate is 0 or very low. On the right side of the point there is a high slope and the signal decreases, meaning that the derivate is high and negative.</li>\n",
    "</ul>"
   ]
  },
  {
   "cell_type": "markdown",
   "metadata": {},
   "source": [
    "<span class=\"color13\"><strong>Negative Plateau</strong></span>\n",
    "<br>The analysis is very similar to the positive plateau with some nuances, which are what makes the difference.\n",
    "<ul>\n",
    "  <li>On the left side of point number 1 there is a high negative slope, meaning that it has a high and negative derivate while on the right side the signal is constant, meaning the derivate is 0 or very low.</li>\n",
    "  <li>On number 2 the condition is the same as on the previous case, which is that the signal is constant and, thus, the derivate must be 0 or very low.</li>\n",
    "  <li>On the left of point number 3 the signal is constant and, therefore, the derivate is 0 or very low. On the right side of the point there is a high slope that rises the signal, meaning that the derivate is high and positive.</li>\n",
    "</ul>"
   ]
  },
  {
   "cell_type": "markdown",
   "metadata": {},
   "source": [
    "The next task consists on translating the previous analysis into code. \n",
    "<br>What we have to take into account is that when we refer to <i>'very low'</i> or <i>'very high'</i> terms, we need to specify thresholds that objectively define what those mean.\n",
    "\n",
    "<p class=\"steps\">3.1.1 - First Experiment</p>\n",
    "Now, we will start by the first experiment, which has a negative plateau. \n",
    "<br>First, we will start by defining all the thresholds that we will need to apply. These values can be adapted to each individual application, but in ours we will define them based on empirical observations. Specifically, based on our observations, both very low and very high threshold values will be the same and the same values will be used for the positive threshold."
   ]
  },
  {
   "cell_type": "code",
   "execution_count": null,
   "metadata": {},
   "outputs": [],
   "source": [
    "# Thresholds for the limiting points (1 and 3)\n",
    "very_low_limiting_threshold = 100\n",
    "very_high_limiting_threshold = 100\n",
    "\n",
    "# Threshold for the point number 2\n",
    "very_low_threshold = 700\n",
    "\n",
    "# Sampling frequency of the acquisitions\n",
    "fs = 500 # Hz\n",
    "\n",
    "# Threshold specifying that there are no jumps that take less than 0.1 seconds. \n",
    "# The multiplication by the sampling rate is the conversion to the number of points in 0.1 seconds.\n",
    "delta_t = 0.1*fs"
   ]
  },
  {
   "cell_type": "markdown",
   "metadata": {},
   "source": [
    "Next, we will need to iterate over the signal and apply the conditions of each of the three points. Given that in our analyses is based on the signal <strong>and</strong> the derivate, we need to first calculate it. Moreover, we will apply a <a href=\"https://plux.info/signal-processing/453-digital-filtering-pre-process-step.html\"> low pass filter<img src=\"../../images/icons/link.png\" width=\"10px\" height=\"10px\" style=\"display:inline\"></a> in order to reduce the noise and keep only the most relevant structures."
   ]
  },
  {
   "cell_type": "code",
   "execution_count": null,
   "metadata": {},
   "outputs": [],
   "source": [
    "# Application of the low pass filter using a cut-off frequency of 10 Hz. The use_filtfilt argument states that\n",
    "# the same filter is applied forward and backwards in order to reduce the artifacts the first filter may introduce.\n",
    "filtered_magnitude_1 = bsnb.lowpass(magnitude_1, 10, fs=fs, use_filtfilt=True)\n",
    "\n",
    "# Here we get the derivate of the signal of magnitude of the first experiment\n",
    "derivate_magnitude_1 = np.diff(filtered_magnitude_1)"
   ]
  },
  {
   "cell_type": "markdown",
   "metadata": {},
   "source": [
    "<strong><span class=\"color7\">Now we have all the conditions to write the actual code that will look for each point. We have comments on the code in order to facilitate the explanation, so, beware of them while reading the code.</span></strong>"
   ]
  },
  {
   "cell_type": "markdown",
   "metadata": {},
   "source": [
    "First, we will initialize the list where we will store the limiting points. Specifically, we will use one list to store the provisory points and another that will store the final points. The difference is that the final list will contain the points that meet all conditions to be considered a limiting point."
   ]
  },
  {
   "cell_type": "code",
   "execution_count": null,
   "metadata": {},
   "outputs": [],
   "source": [
    "# Here we initialise the list that will contain the provisory points limiting the plateau(s).\n",
    "low_plateau = []\n",
    "\n",
    "# Here we initialise the list that will contain the final points limiting the plateau(s).\n",
    "low_final_plateau = []"
   ]
  },
  {
   "cell_type": "markdown",
   "metadata": {},
   "source": [
    "Second, we initialize a flag that will inform the algorithm what was the point that was last identified. \n",
    "\n",
    "This is important because we should not look for consecutive left point or consecutive right points. The order should be always the same: we first find a left limiting point, then we find a right limiting point. Additionally, we can start look again for left limiting point only after the both limiting points were found."
   ]
  },
  {
   "cell_type": "code",
   "execution_count": null,
   "metadata": {},
   "outputs": [],
   "source": [
    "# This flag will be used to tell us if the algorithm has found a left limiting point, because it does not make sense to look for consecutive\n",
    "# left limiting points if we have not found a right one.\n",
    "low_flag = False"
   ]
  },
  {
   "cell_type": "markdown",
   "metadata": {},
   "source": [
    "This is the tricky part. The next cell shows how we look for the provisory limiting points. Specifically, it iterates over the signal and checks if the conditions we set are met."
   ]
  },
  {
   "cell_type": "code",
   "execution_count": null,
   "metadata": {},
   "outputs": [],
   "source": [
    "# Iterate over all points in the derivate except the first and last ones. This is because we will be looking for left and right points, and, so,\n",
    "# we cannot look to the left of the first point and the right of the last point.\n",
    "for point in range(1, len(derivate_magnitude_1)-1):\n",
    "    \n",
    "    # Get the point immediately at the left of the current one.\n",
    "    left_point = derivate_magnitude_1[point-1]\n",
    "    \n",
    "    # Get the point immediately at the right of the current one.\n",
    "    right_point = derivate_magnitude_1[point+1]\n",
    "    \n",
    "    # This says that only if the flag is false, meaning that no left limiting point was found, does the algorithm look for a left limiting point.\n",
    "    # Else, it will look for a right limiting point.\n",
    "    if not low_flag:\n",
    "        # Definition of point number 1\n",
    "        \n",
    "        # If all the identified conditions verify, we store the point as a left limiting point.\n",
    "        if np.abs(left_point) > very_high_limiting_threshold and  left_point < 0 and np.abs(right_point) < very_low_limiting_threshold:\n",
    "            low_plateau.append(point)\n",
    "            \n",
    "            # The flag turns to true to specify that we have found a left limiting point.\n",
    "            low_flag = True\n",
    "    else:\n",
    "        # Definition of point number 3\n",
    "        # We check if the time threshold specified before is respected and only if it is does the algorithm look for a right limiting point.\n",
    "        if point - low_plateau[-1] > delta_t:\n",
    "             \n",
    "            # If all the identified conditions verify, we store the point as a right limiting point.\n",
    "            if np.abs(left_point) < very_low_limiting_threshold and np.abs(right_point) > very_high_limiting_threshold and right_point > 0:\n",
    "                low_plateau.append(point)\n",
    "                \n",
    "                # Then we say that the flag is false so that new left limiting points can be found.\n",
    "                low_flag = False"
   ]
  },
  {
   "cell_type": "markdown",
   "metadata": {},
   "source": [
    "Given the provisory points, we should check if there is any left limiting point without a right correspondent. Due to the construction of the code, it can only happen if the last point is a left point and, so, we just need to see the state of the flag. If it is True, it means that the last point it found was a left one, and thus can be eliminated from the list."
   ]
  },
  {
   "cell_type": "code",
   "execution_count": null,
   "metadata": {},
   "outputs": [],
   "source": [
    "# If a left limiting point was found but not the right corresponding one, we should discard it.\n",
    "if low_flag:\n",
    "    low_plateau.pop()"
   ]
  },
  {
   "cell_type": "markdown",
   "metadata": {},
   "source": [
    "Finally, we can check if the final condition is met. The final condition is that there is no point in between limiting points with a derivate higher than the threshold we defined. Only if that criteria is met are the points considered as true limiting points and are stored on the list containing the final points."
   ]
  },
  {
   "cell_type": "code",
   "execution_count": null,
   "metadata": {},
   "outputs": [],
   "source": [
    "# Only if we have more than two points do we check if they are suitable to be considered as limits of a plateau.\n",
    "if len(low_plateau) >= 2:\n",
    "    \n",
    "    # Here we will iterate over all points but in a pairwise condition, because a plateau is always limited by two points in our algorithm.\n",
    "    for point in range(0, len(low_plateau)-2, 2):\n",
    "        \n",
    "        # Definition of point number 2\n",
    "        \n",
    "        # If there are no point in between limiting points with a derivate higher than the threshold, then those are really limiting points and\n",
    "        # are stored in the final list.\n",
    "        if not np.any(derivate_magnitude_1[low_plateau[point]:low_plateau[point+1]] > very_low_threshold):\n",
    "            low_final_plateau.append(low_plateau[point])\n",
    "            low_final_plateau.append(low_plateau[point+1])"
   ]
  },
  {
   "cell_type": "markdown",
   "metadata": {},
   "source": [
    "Now, we will check if the algorithm worked as expected and compare the estimated time using this algorithm to the time we calculated using the force platform signals. \n",
    "\n",
    "The plot below shows the points the algorithm found as the vertical lines and we see that the plateau was found."
   ]
  },
  {
   "cell_type": "code",
   "execution_count": null,
   "metadata": {
    "tags": [
     "hide_in"
    ]
   },
   "outputs": [],
   "source": [
    "time_1 = times_1[0]\n",
    "\n",
    "start_1 = (np.array(low_plateau) + begin_1)/fs\n",
    "\n",
    "print(f\"The estimated time is {np.diff(low_plateau)[0]/fs} which differs from the ground truth by {np.abs(0.340 - np.diff(low_plateau)[0]/fs):.3}.\")\n",
    "\n",
    "bsnb.plot(times_1[0], filtered_magnitude_1, vert_lines=start_1)"
   ]
  },
  {
   "cell_type": "markdown",
   "metadata": {},
   "source": [
    "<p class=\"steps\">3.1.2 - Second Experiment</p>\n",
    "Given that we have specified all the parameters required to detect the negative plateau and that we will use the same to detect the positive plateau in the second experiment, we can start by applying the low pass filter to the magnitude signal and then calculate the derivate."
   ]
  },
  {
   "cell_type": "code",
   "execution_count": null,
   "metadata": {},
   "outputs": [],
   "source": [
    "# Application of the low pass filter using a cut-off frequency of 10 Hz. The use_filtfilt argument states that\n",
    "# the same filter is applied forward and backwards in order to reduce the noise the first filter may introduce.\n",
    "filtered_magnitude_2 = bsnb.lowpass(magnitude_2, 10, fs=fs, use_filtfilt=True)\n",
    "\n",
    "# Here we get the derivate of the signal of magnitude of the second experiment\n",
    "derivate_magnitude_2 = np.diff(filtered_magnitude_2)"
   ]
  },
  {
   "cell_type": "markdown",
   "metadata": {},
   "source": [
    "Now we have everything we need to apply a very similar algorithm as the one used to detect the negative plateau. Notice that the major difference on the next code cell are the conditions used to detect the limiting points. We also changed the names of the variables in order to clearly distinguish them from the previous case. In this case we do not explain each step of the algorithm because the steps are the same as on the previous case."
   ]
  },
  {
   "cell_type": "code",
   "execution_count": null,
   "metadata": {},
   "outputs": [],
   "source": [
    "# Here we initialise the list that will contain the provisory points limiting the plateau(s).\n",
    "high_plateau = []\n",
    "\n",
    "# Here we initialise the list that will contain the final points limiting the plateau(s).\n",
    "high_final_plateau = []\n",
    "\n",
    "# This flag will be used to tell us if the algorithm has found a left limiting point, because it does not make sense to look for consecutive\n",
    "# left limiting points if we have not found a right one.\n",
    "high_flag = False\n",
    "\n",
    "\n",
    "###############################################################################\n",
    "########################  Finding the limiting points  ########################\n",
    "###############################################################################\n",
    "\n",
    "\n",
    "# Iterate over all points in the derivate except the first and last ones. This is because we will be looking for left and right points, and, so,\n",
    "# we cannot look to the left of the first point and the right of the last point.\n",
    "for point in range(1, len(derivate_magnitude_2)-1):\n",
    "    \n",
    "    # Get the point imidiatelly at the left of the current one.\n",
    "    left_point = derivate_magnitude_2[point-1]\n",
    "    \n",
    "    # Get the point imidiatelly at the right of the current one.\n",
    "    right_point = derivate_magnitude_2[point+1]\n",
    "    \n",
    "    # This says that only if the flag is false, meaning that no left limiting point was found, does the algorithm look for a left limiting point.\n",
    "    # Else, if it found a left limiting point, it will look for a right limiting point.\n",
    "    if not high_flag:\n",
    "        \n",
    "        # Definition of point number 1\n",
    "        # If all the identified conditions verify, we store the point as a left limiting point.\n",
    "        if np.abs(left_point) > very_high_limiting_threshold and  left_point > 0 and np.abs(right_point) < very_low_limiting_threshold:\n",
    "            high_plateau.append(point)\n",
    "            \n",
    "            # The flag turns to true to specify that we have found a left limiting point.\n",
    "            high_flag = True\n",
    "    else:\n",
    "        # Definition of point number 3\n",
    "        # We check if the time threshold specified before is respected and only if it is does the algorithm look for a right limiting point.\n",
    "        if point - high_plateau[-1] > delta_t:\n",
    "            \n",
    "            # If all the identified conditions verify, we store the point as a right limiting point.\n",
    "            if np.abs(left_point) < very_low_limiting_threshold and np.abs(right_point) > very_high_limiting_threshold and right_point < 0:\n",
    "                high_plateau.append(point)\n",
    "                \n",
    "                # Then we say that the flag is false so that new left limiting points can be found.\n",
    "                high_flag = False\n",
    "\n",
    "# If a left limiting point was found but not the right corresponding one, we should discard it.\n",
    "if high_flag:\n",
    "    high_plateau.pop()\n",
    "\n",
    "# Only if we have more than two points do we check if they are suitable to be considered as limits of a plateau.\n",
    "if len(high_plateau) >= 2:\n",
    "    \n",
    "    # Here we will iterate over all points but in a pairwise condition, because a plateau is always limited by two points in our algorithm.\n",
    "    for point in range(0, len(high_plateau)-2, 2):\n",
    "        \n",
    "        # Definition of point number 2\n",
    "        \n",
    "        # If there are no point in between limiting points with a derivate higher than the threshold, then those are really limiting points and\n",
    "        # are stored in the final list.\n",
    "        if not np.any(derivate_magnitude_2[high_plateau[point]:high_plateau[point+1]] > very_low_threshold):\n",
    "            high_final_plateau.append(high_plateau[point])\n",
    "            high_final_plateau.append(high_plateau[point+1])"
   ]
  },
  {
   "cell_type": "markdown",
   "metadata": {},
   "source": [
    "Once again, we will check if the algorithm worked as expected and compare the estimated time using this algorithm to the time we calculated using the force platform signals. The plot below shows the points the algorithm found as the vertical lines and we see that the plateau was found."
   ]
  },
  {
   "cell_type": "code",
   "execution_count": null,
   "metadata": {
    "tags": [
     "hide_in"
    ]
   },
   "outputs": [],
   "source": [
    "time_2 = times_2[0]\n",
    "\n",
    "start_2 = (np.array(high_plateau) + begin_2)/fs\n",
    "\n",
    "print(f\"The estimated time is {np.diff(high_plateau)[0]/fs} which differs from the ground truth by {0.404 - np.diff(high_plateau)[0]/fs:.3}.\")\n",
    "\n",
    "bsnb.plot(times_2[0], filtered_magnitude_2, vert_lines=start_2)"
   ]
  },
  {
   "cell_type": "markdown",
   "metadata": {},
   "source": [
    "In this <span class=\"color4\"><strong>Jupyter Notebook</strong></span> we will use data from two different experiments due to the high variability between the signals acquired in the same conditions. So, we will load the signals of the second experiment in the next cell."
   ]
  },
  {
   "cell_type": "markdown",
   "metadata": {},
   "source": [
    "<table style=\"width:12%\">\n",
    "  <tr>\n",
    "    <td><img src=\"../../images/extract/loft_time/loft_time_rui.gif\" height=\"326\" controls></td>\n",
    "  </tr>\n",
    "</table>"
   ]
  },
  {
   "cell_type": "code",
   "execution_count": null,
   "metadata": {},
   "outputs": [],
   "source": [
    "# Define the path of the file that has the signals of each device\n",
    "path_subject_2 = \"../../signal_samples/loft_time_subject_2.h5\"\n",
    "\n",
    "# Load the data from the file\n",
    "data_2 = bsnb.load(path_subject_2)\n",
    "\n",
    "# Identify the mac addresses of each device\n",
    "force_platform_2, accelerometer_2 = data_2.keys()\n",
    "\n",
    "# Get the signals acquired by the force_platform\n",
    "force_platform_signals_2 = data_2[force_platform_2]\n",
    "\n",
    "# Get the signals acquired by the accelerometer\n",
    "accelerometer_signals_2 = data_2[accelerometer_2]"
   ]
  },
  {
   "cell_type": "markdown",
   "metadata": {},
   "source": [
    "<strong><span class=\"color1\">The next cell will show how to get the data from each device and from each channel of each device.</span></strong>\n",
    "<br> For that, we will first initiate different lists for different devices and different experiments. Then, we will iterate over each channel of each device and store those signals in the corresponding list."
   ]
  },
  {
   "cell_type": "code",
   "execution_count": null,
   "metadata": {},
   "outputs": [],
   "source": [
    "# These are the lists where we will store the signals from each channels of the force platform of each experiment.\n",
    "# They are initiated as empty lists so we can append items to them.\n",
    "force_platform_channels_2 = []\n",
    "\n",
    "# And these are the lists where we will store the signals from each direction of the accelerometer of each experiment.\n",
    "accelerometer_direction_2 = []\n",
    "\n",
    "\n",
    "# This is the part where we get the signal from each channel and append it to the corresponding list.\n",
    "# The syntax of it may be a bit odd at first sight, so we recommend you to read: https://realpython.com/iterate-through-dictionary-python/\n",
    "# Basically, force_platform_signals_1.keys() is a strutucture that iterates over the channels of the force platform device.\n",
    "for channel in force_platform_signals_2.keys():\n",
    "    channel_signal_2 = force_platform_signals_2[channel]\n",
    "    force_platform_channels_2.append(channel_signal_2)\n",
    "    \n",
    "# Now we need to do the same for the accelerometer. Note that the code is very similar compared to the force platform.\n",
    "for direction in accelerometer_signals_2.keys():\n",
    "    direction_signal_2 = accelerometer_signals_2[direction]\n",
    "    accelerometer_direction_2.append(direction_signal_2)"
   ]
  },
  {
   "cell_type": "markdown",
   "metadata": {},
   "source": [
    "The next plot shows the same data regarding the second experiment. We can see that force platform signals are very similar and can be directly analyzed, considering that the loft time corresponds to the time that no force is being applied to the platform. "
   ]
  },
  {
   "cell_type": "code",
   "execution_count": null,
   "metadata": {
    "tags": [
     "hide_in"
    ]
   },
   "outputs": [],
   "source": [
    "fs = 500\n",
    "time_2 = bsnb.generate_time(force_platform_signals_2['CH1'], fs)\n",
    "\n",
    "begin_2 = 25*fs\n",
    "end_2 = 30*fs\n",
    "\n",
    "times_2 = []\n",
    "force_platform_channels_2 = []\n",
    "for key in force_platform_signals_2.keys():\n",
    "    times_2.append(time_2[begin_2:end_2])\n",
    "    force_platform_channels_2.append(force_platform_signals_2[key][begin_2:end_2])\n",
    "\n",
    "tr_2 = np.min(force_platform_channels_2[0]) + np.ptp(force_platform_channels_2[0])*.01\n",
    "index_2 = np.where(force_platform_channels_2[0] < tr_2)[0]\n",
    "index_2 = (np.array([index_2[a] for a in [0, -1]]) + begin_2)/fs\n",
    "\n",
    "bsnb.plot(times_2, force_platform_channels_2, grid_plot=True, grid_lines=2, grid_columns=2, x_axis_label='Time (s)', \n",
    "          vert_lines=[index_2, index_2, index_2, index_2],\n",
    "          y_axis_label='Raw Data', title=[\"Channel 1\", \"Channel 2\", \"Channel 3\", \"Channel 4\"])"
   ]
  },
  {
   "cell_type": "markdown",
   "metadata": {},
   "source": [
    "We saw that accelerometer signals are not the most reliable to calculate the time of flight of a jumping person, but can still be used if a proper post-analysis is applied. Specifically, the signals should be analyzed before starting the development of any algorithm, in order to try to identify the most distinguishable structures that correspond to the actions we look for.\n",
    "\n",
    "Furthermore, accelerometers may be a well suited solution for applications where high precision is not a concern, because they may not be as precise as other specific sensors. The big advantage of accelerometers is that they can be used outside of the laboratory and in a wide range of applications.\n",
    "\n",
    "<strong><span class=\"color7\">We hope that you have enjoyed this guide. </span><span class=\"color2\">biosignalsnotebooks</span><span class=\"color4\"> is an environment in continuous expansion, so don't stop your journey and learn more with the remaining <a href=\"../MainFiles/biosignalsnotebooks.ipynb\">Notebooks <img src=\"../../images/icons/link.png\" width=\"10px\" height=\"10px\" style=\"display:inline\"></a></span></strong> ! "
   ]
  },
  {
   "cell_type": "markdown",
   "metadata": {
    "tags": [
     "footer"
    ]
   },
   "source": [
    "<hr>\n",
    "<table width=\"100%\">\n",
    "    <tr>\n",
    "        <td style=\"border-right:solid 3px #009EE3\" width=\"20%\">\n",
    "            <img src=\"../../images/ost_logo.png\">\n",
    "        </td>\n",
    "        <td width=\"40%\" style=\"text-align:left\">\n",
    "            <a href=\"../MainFiles/aux_files/biosignalsnotebooks_presentation.pdf\" target=\"_blank\">&#9740; Project Presentation</a>\n",
    "            <br>\n",
    "            <a href=\"https://github.com/biosignalsnotebooks/biosignalsnotebooks\" target=\"_blank\">&#9740; GitHub Repository</a>\n",
    "            <br>\n",
    "            <a href=\"https://pypi.org/project/biosignalsnotebooks/\" target=\"_blank\">&#9740; How to install biosignalsnotebooks Python package ?</a>\n",
    "            <br>\n",
    "            <a href=\"../MainFiles/signal_samples.ipynb\">&#9740; Signal Library</a>\n",
    "        </td>\n",
    "        <td width=\"40%\" style=\"text-align:left\">\n",
    "            <a href=\"../MainFiles/biosignalsnotebooks.ipynb\">&#9740; Notebook Categories</a>\n",
    "            <br>\n",
    "            <a href=\"../MainFiles/by_diff.ipynb\">&#9740; Notebooks by Difficulty</a>\n",
    "            <br>\n",
    "            <a href=\"../MainFiles/by_signal_type.ipynb\">&#9740; Notebooks by Signal Type</a>\n",
    "            <br>\n",
    "            <a href=\"../MainFiles/by_tag.ipynb\">&#9740; Notebooks by Tag</a>\n",
    "        </td>\n",
    "    </tr>\n",
    "</table>"
   ]
  },
  {
   "cell_type": "markdown",
   "metadata": {
    "tags": [
     "hide_mark",
     "aux"
    ]
   },
   "source": [
    "<span class=\"color6\">**Auxiliary Code Segment (should not be replicated by\n",
    "the user)**</span>"
   ]
  },
  {
   "cell_type": "code",
   "execution_count": null,
   "metadata": {
    "tags": [
     "hide_both"
    ]
   },
   "outputs": [],
   "source": [
    "from biosignalsnotebooks.__notebook_support__ import css_style_apply\n",
    "css_style_apply()"
   ]
  },
  {
   "cell_type": "code",
   "execution_count": null,
   "metadata": {
    "tags": [
     "hide_both"
    ]
   },
   "outputs": [],
   "source": [
    "%%html\n",
    "<script>\n",
    "    // AUTORUN ALL CELLS ON NOTEBOOK-LOAD!\n",
    "    require(\n",
    "        ['base/js/namespace', 'jquery'],\n",
    "        function(jupyter, $) {\n",
    "            $(jupyter.events).on(\"kernel_ready.Kernel\", function () {\n",
    "                console.log(\"Auto-running all cells-below...\");\n",
    "                jupyter.actions.call('jupyter-notebook:run-all-cells-below');\n",
    "                jupyter.actions.call('jupyter-notebook:save-notebook');\n",
    "            });\n",
    "        }\n",
    "    );\n",
    "</script>"
   ]
  }
 ],
 "metadata": {
  "celltoolbar": "Tags",
  "hide_input": false,
  "kernelspec": {
   "display_name": "Python 3",
   "language": "python",
   "name": "python3"
  },
  "language_info": {
   "codemirror_mode": {
    "name": "ipython",
    "version": 3
   },
   "file_extension": ".py",
   "mimetype": "text/x-python",
   "name": "python",
   "nbconvert_exporter": "python",
   "pygments_lexer": "ipython3",
   "version": "3.7.2"
  },
  "nteract": {
   "version": "0.15.0"
  }
 },
 "nbformat": 4,
 "nbformat_minor": 2
}
