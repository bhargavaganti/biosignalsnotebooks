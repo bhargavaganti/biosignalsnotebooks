{
 "cells": [
  {
   "cell_type": "markdown",
   "metadata": {
    "tags": [
     "intro_info_title"
    ]
   },
   "source": [
    "<link rel=\"stylesheet\" href=\"../../styles/theme_style.css\">\n",
    "<!--link rel=\"stylesheet\" href=\"../../styles/header_style.css\"-->\n",
    "<link rel=\"stylesheet\" href=\"https://cdnjs.cloudflare.com/ajax/libs/font-awesome/4.7.0/css/font-awesome.min.css\">\n",
    "\n",
    "<table width=\"100%\">\n",
    "    <tr>\n",
    "        <td id=\"image_td\" width=\"15%\" class=\"header_image_color_8\"><div id=\"image_img\" class=\"header_image_8\"></div></td>\n",
    "        <!-- Available classes for \"image_td\" element:\n",
    "        - header_image_color_1 (For Notebooks of \"Open\" Area);\n",
    "        - header_image_color_2 (For Notebooks of \"Acquire\" Area);\n",
    "        - header_image_color_3 (For Notebooks of \"Visualise\" Area);\n",
    "        - header_image_color_4 (For Notebooks of \"Process\" Area);\n",
    "        - header_image_color_5 (For Notebooks of \"Detect\" Area);\n",
    "        - header_image_color_6 (For Notebooks of \"Extract\" Area);\n",
    "        - header_image_color_7 (For Notebooks of \"Decide\" Area);\n",
    "        - header_image_color_8 (For Notebooks of \"Explain\" Area);\n",
    "\n",
    "        Available classes for \"image_img\" element:\n",
    "        - header_image_1 (For Notebooks of \"Open\" Area);\n",
    "        - header_image_2 (For Notebooks of \"Acquire\" Area);\n",
    "        - header_image_3 (For Notebooks of \"Visualise\" Area);\n",
    "        - header_image_4 (For Notebooks of \"Process\" Area);\n",
    "        - header_image_5 (For Notebooks of \"Detect\" Area);\n",
    "        - header_image_6 (For Notebooks of \"Extract\" Area);\n",
    "        - header_image_7 (For Notebooks of \"Decide\" Area);\n",
    "        - header_image_8 (For Notebooks of \"Explain\" Area);-->\n",
    "        <td class=\"header_text\"> Generation of a time axis (conversion of samples into seconds) </td>\n",
    "    </tr>\n",
    "</table>"
   ]
  },
  {
   "cell_type": "markdown",
   "metadata": {
    "tags": [
     "intro_info_tags"
    ]
   },
   "source": [
    "<div id=\"flex-container\">\n",
    "    <div id=\"diff_level\" class=\"flex-item\">\n",
    "        <strong>Difficulty Level:</strong>   <span class=\"fa fa-star checked\"></span>\n",
    "                                <span class=\"fa fa-star checked\"></span>\n",
    "                                <span class=\"fa fa-star\"></span>\n",
    "                                <span class=\"fa fa-star\"></span>\n",
    "                                <span class=\"fa fa-star\"></span>\n",
    "    </div>\n",
    "    <div id=\"tag\" class=\"flex-item-tag\">\n",
    "        <span id=\"tag_list\">\n",
    "            <table id=\"tag_list_table\">\n",
    "                <tr>\n",
    "                    <td class=\"shield_left\">Tags</td>\n",
    "                    <td class=\"shield_right\" id=\"tags\">explain|time|conversion</td> \n",
    "                </tr>\n",
    "            </table>\n",
    "        </span>\n",
    "        <!-- [OR] Visit https://img.shields.io in order to create a tag badge-->\n",
    "    </div>\n",
    "</div>"
   ]
  },
  {
   "cell_type": "markdown",
   "metadata": {},
   "source": [
    "All electrophysiological signals, collected by *Plux* acquisition systems, are, in its essence, time series.\n",
    "\n",
    "However the raw data contained in the generated .txt, .h5 and .edf files consists in samples where no time axis is returned and each sample value is in a bit format that needs to be converted to mV by the respective transfer function.\n",
    "\n",
    "In the present **<span class=\"color5\">Jupyter Notebook</span>** is described how to associate a time axis to an acquired signal."
   ]
  },
  {
   "cell_type": "markdown",
   "metadata": {},
   "source": [
    "<hr>"
   ]
  },
  {
   "cell_type": "markdown",
   "metadata": {},
   "source": [
    "<p class=\"steps\">1 - Importation of the needed packages </p>"
   ]
  },
  {
   "cell_type": "code",
   "execution_count": 1,
   "metadata": {
    "tags": [
     "hide_out"
    ]
   },
   "outputs": [
    {
     "ename": "ModuleNotFoundError",
     "evalue": "No module named 'opensignalstools'",
     "output_type": "error",
     "traceback": [
      "\u001b[1;31m---------------------------------------------------------------------------\u001b[0m",
      "\u001b[1;31mModuleNotFoundError\u001b[0m                       Traceback (most recent call last)",
      "\u001b[1;32m<ipython-input-1-5a64a2f89ad3>\u001b[0m in \u001b[0;36m<module>\u001b[1;34m\u001b[0m\n\u001b[0;32m      9\u001b[0m \u001b[1;33m\u001b[0m\u001b[0m\n\u001b[0;32m     10\u001b[0m \u001b[1;31m# OpenSignals Tools package.\u001b[0m\u001b[1;33m\u001b[0m\u001b[1;33m\u001b[0m\u001b[1;33m\u001b[0m\u001b[0m\n\u001b[1;32m---> 11\u001b[1;33m \u001b[1;32mimport\u001b[0m \u001b[0mopensignalstools\u001b[0m \u001b[1;32mas\u001b[0m \u001b[0most\u001b[0m\u001b[1;33m\u001b[0m\u001b[1;33m\u001b[0m\u001b[0m\n\u001b[0m",
      "\u001b[1;31mModuleNotFoundError\u001b[0m: No module named 'opensignalstools'"
     ]
    }
   ],
   "source": [
    "# Package used for loading data from the input text file\n",
    "import numpy\n",
    "\n",
    "# Package used for loading data from the input h5 file\n",
    "import h5py\n",
    "\n",
    "# Auxiliary package for creation of a Python dictionary from a string\n",
    "import ast\n",
    "\n",
    "# OpenSignals Tools package.\n",
    "import opensignalstools as ost"
   ]
  },
  {
   "cell_type": "markdown",
   "metadata": {},
   "source": [
    "<p class=\"steps\">2 - Load of support data inside .txt and .h5 files (described in the <strong><span class=\"color5\">Jupyter Notebook</span></strong> <a href=\"../Open/Open_txt.ipynb\"><img src=\"../../images/icons/link.png\" width=\"10px\" height=\"10px\" style=\"display:inline\"></a> and <a href=\"../Open/Open_h5.ipynb\"><img src=\"../../images/icons/link.png\" width=\"10px\" height=\"10px\" style=\"display:inline\"></a>) </p>\n",
    "<span class=\"color6\">The user can choose only one of the file formats to execute this tutorial steps</span>"
   ]
  },
  {
   "cell_type": "code",
   "execution_count": null,
   "metadata": {},
   "outputs": [],
   "source": [
    "# Files path\n",
    "file_folder = \"../Open/signals\"\n",
    "txt_file_name = \"biosignalsplux_Electrocardiogram_(ECG)_Sample.txt\" \n",
    "h5_file_name = \"biosignalsplux_Electrocardiogram_(ECG)_Sample.h5\"\n",
    "\n",
    "# =================== Loading of .txt file header =====================\n",
    "txt_file = open(file_folder + \"/\" + txt_file_name, \"r\")\n",
    "\n",
    "# Reading and storage of the second line (entry 1) of .txt file (header)\n",
    "txt_data = txt_file.readlines()\n",
    "txt_support = txt_data[1]\n",
    "\n",
    "# Conversion of support data to a Python dictionary\n",
    "txt_support_dict = ast.literal_eval(txt_support.split(\"# \")[1])\n",
    "\n",
    "# ====================== Loading of .h5 metadata =======================\n",
    "h5_object = h5py.File(file_folder + \"/\" + h5_file_name)\n",
    "\n",
    "# Storage of attributes at the first group contained in the .h5 file (with key \"00:07:80:3B:46:61\")\n",
    "h5_support_dict = dict(h5_object.get(\"00:07:80:3B:46:61\").attrs.items())\n",
    "\n",
    "# ====================== Checkpoint printing ===========================\n",
    "print (txt_support_dict)\n",
    "print (\"\\n\")\n",
    "print (h5_support_dict)"
   ]
  },
  {
   "cell_type": "markdown",
   "metadata": {},
   "source": [
    "<p class=\"steps\">3 - Extraction of the sampling frequency from the support data contained in *txt_support_dict* and *h5_support_dict*</p>"
   ]
  },
  {
   "cell_type": "code",
   "execution_count": null,
   "metadata": {},
   "outputs": [],
   "source": [
    "# The sampling from:\n",
    "# [.txt file]\n",
    "sampling_frequency = txt_support_dict[\"00:07:80:3B:46:61\"][\"sampling rate\"] # \"00:07:80:3B:46:61\" is the device mac address (if more than when device were used this field should be change accodingly)\n",
    "\n",
    "# or [.h5 file]\n",
    "sampling_frequency = h5_support_dict[\"sampling rate\"]\n",
    "\n",
    "print (\"Sampling Frequency (samples/s): \" + str(sampling_frequency))"
   ]
  },
  {
   "cell_type": "markdown",
   "metadata": {},
   "source": [
    "<p class=\"steps\">4 - Load of acquisition samples (in this case from the third column of the text file)</p>"
   ]
  },
  {
   "cell_type": "code",
   "execution_count": null,
   "metadata": {},
   "outputs": [],
   "source": [
    "txt_signal = numpy.loadtxt(file_folder + \"/\" + txt_file_name)[:, 2]"
   ]
  },
  {
   "cell_type": "markdown",
   "metadata": {},
   "source": [
    "<p class=\"steps\">5 - Determination of acquisition time in seconds</p>"
   ]
  },
  {
   "cell_type": "code",
   "execution_count": null,
   "metadata": {},
   "outputs": [],
   "source": [
    "# Number of acquired samples\n",
    "nbr_samples = len(txt_signal)\n",
    "\n",
    "# Conversion between sample number and seconds\n",
    "acq_time = nbr_samples / sampling_frequency\n",
    "print (\"Acquisition Time: \" + str(acq_time) + \" s\")"
   ]
  },
  {
   "cell_type": "markdown",
   "metadata": {},
   "source": [
    "<p class=\"steps\">6 - Creation of the time axis (between 0 and 11.85 seconds) through <span class=\"color4\">linspace</span> function</p>"
   ]
  },
  {
   "cell_type": "code",
   "execution_count": null,
   "metadata": {},
   "outputs": [],
   "source": [
    "time_axis = numpy.linspace(0, acq_time, nbr_samples)\n",
    "print (\"Time-Axis: \\n\" + str(time_axis))"
   ]
  },
  {
   "cell_type": "markdown",
   "metadata": {},
   "source": [
    "*This procedure can be automatically done by **generateTime** function in **conversion** module of **<span class=\"color2\">opensignalstools</span>** package*"
   ]
  },
  {
   "cell_type": "code",
   "execution_count": null,
   "metadata": {},
   "outputs": [],
   "source": [
    "time_axis_auto = ost.generateTime(txt_signal, sampling_frequency)\n",
    "\n",
    "print (\"Time-Axis returned by generateTime function:\")\n",
    "print (time_axis_auto)"
   ]
  },
  {
   "cell_type": "markdown",
   "metadata": {
    "tags": [
     "hide_mark",
     "aux"
    ]
   },
   "source": [
    "<span class=\"color6\">**Auxiliary Code Segment (should not be replicated by the user)**</span>"
   ]
  },
  {
   "cell_type": "code",
   "execution_count": null,
   "metadata": {
    "tags": [
     "hide_both"
    ]
   },
   "outputs": [],
   "source": [
    "from opensignalstools.__notebook_support__ import cssStyleApply\n",
    "cssStyleApply()"
   ]
  }
 ],
 "metadata": {
  "celltoolbar": "Tags",
  "kernelspec": {
   "display_name": "Python 3",
   "language": "python",
   "name": "python3"
  },
  "language_info": {
   "codemirror_mode": {
    "name": "ipython",
    "version": 3
   },
   "file_extension": ".py",
   "mimetype": "text/x-python",
   "name": "python",
   "nbconvert_exporter": "python",
   "pygments_lexer": "ipython3",
   "version": "3.7.2"
  }
 },
 "nbformat": 4,
 "nbformat_minor": 2
}
