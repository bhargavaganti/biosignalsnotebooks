{
 "cells": [
  {
   "cell_type": "markdown",
   "metadata": {},
   "source": [
    "<link rel=\"stylesheet\" href=\"../../styles/theme_style.css\">\n",
    "<!--link rel=\"stylesheet\" href=\"../../styles/header_style.css\"-->\n",
    "<link rel=\"stylesheet\" href=\"https://cdnjs.cloudflare.com/ajax/libs/font-awesome/4.7.0/css/font-awesome.min.css\">\n",
    "\n",
    "<table width=\"100%\">\n",
    "    <tr>\n",
    "        <td id=\"image_td\" width=\"15%\" class=\"header_image_color_1\"><div id=\"image_img\"\n",
    "        class=\"header_image_1\"></div></td>\n",
    "        <!-- Available classes for \"image_td\" element:\n",
    "        - header_image_color_1 (For Notebooks of \"Open\" Area);\n",
    "        - header_image_color_2 (For Notebooks of \"Acquire\" Area);\n",
    "        - header_image_color_3 (For Notebooks of \"Visualise\" Area);\n",
    "        - header_image_color_4 (For Notebooks of \"Process\" Area);\n",
    "        - header_image_color_5 (For Notebooks of \"Detect\" Area);\n",
    "        - header_image_color_6 (For Notebooks of \"Extract\" Area);\n",
    "        - header_image_color_7 (For Notebooks of \"Decide\" Area);\n",
    "        - header_image_color_8 (For Notebooks of \"Explain\" Area);\n",
    "\n",
    "        Available classes for \"image_img\" element:\n",
    "        - header_image_1 (For Notebooks of \"Open\" Area);\n",
    "        - header_image_2 (For Notebooks of \"Acquire\" Area);\n",
    "        - header_image_3 (For Notebooks of \"Visualise\" Area);\n",
    "        - header_image_4 (For Notebooks of \"Process\" Area);\n",
    "        - header_image_5 (For Notebooks of \"Detect\" Area);\n",
    "        - header_image_6 (For Notebooks of \"Extract\" Area);\n",
    "        - header_image_7 (For Notebooks of \"Decide\" Area);\n",
    "        - header_image_8 (For Notebooks of \"Explain\" Area);-->\n",
    "        <td class=\"header_text\"> Test :) </td>\n",
    "    </tr>\n",
    "</table>"
   ]
  },
  {
   "cell_type": "code",
   "execution_count": null,
   "metadata": {},
   "outputs": [],
   "source": [
    "%%html\n",
    "<script>\n",
    "    // AUTORUN ALL CELLS ON NOTEBOOK-LOAD!\n",
    "    require(\n",
    "        ['base/js/namespace', 'jquery'], \n",
    "        function(jupyter, $) {\n",
    "            $(jupyter.events).on(\"kernel_ready.Kernel\", function () {\n",
    "                console.log(\"Auto-running all cells-below...\");\n",
    "                jupyter.actions.call('jupyter-notebook:run-all-cells-below');\n",
    "                jupyter.actions.call('jupyter-notebook:save-notebook');\n",
    "            });\n",
    "        }\n",
    "    );\n",
    "</script>"
   ]
  },
  {
   "cell_type": "code",
   "execution_count": null,
   "metadata": {},
   "outputs": [],
   "source": [
    "from opensignalstools.__notebook_support__ import css_style_apply\n",
    "css_style_apply()"
   ]
  }
 ],
 "metadata": {
  "kernelspec": {
   "display_name": "Python 3",
   "language": "python",
   "name": "python3"
  },
  "language_info": {
   "codemirror_mode": {
    "name": "ipython",
    "version": 3
   },
   "file_extension": ".py",
   "mimetype": "text/x-python",
   "name": "python",
   "nbconvert_exporter": "python",
   "pygments_lexer": "ipython3",
   "version": "3.6.2rc1"
  }
 },
 "nbformat": 4,
 "nbformat_minor": 2
}
