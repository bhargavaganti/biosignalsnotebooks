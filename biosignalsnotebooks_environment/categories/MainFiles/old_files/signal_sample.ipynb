{
 "cells": [
  {
   "cell_type": "markdown",
   "metadata": {},
   "source": [
    "<link rel=\"stylesheet\" href=\"../../styles/theme_style.css\">\n",
    "<!--link rel=\"stylesheet\" href=\"../../styles/header_style.css\"-->\n",
    "<link rel=\"stylesheet\" href=\"https://cdnjs.cloudflare.com/ajax/libs/font-awesome/4.7.0/css/font-awesome.min.css\">\n",
    "\n",
    "<table width=\"100%\">\n",
    "    <tr>\n",
    "        <td id=\"image_td\" width=\"50%\" class=\"header_image_color_2\">\n",
    "            <img id=\"image_img\" src=\"../../images/ost_logo.png\"></td>\n",
    "        <td class=\"header_text header_gradient\"> Signal Samples Library </td>\n",
    "    </tr>\n",
    "</table>"
   ]
  },
  {
   "cell_type": "markdown",
   "metadata": {
    "tags": [
     "test"
    ]
   },
   "source": [
    "With *Plux* acquisition systems, a vast set of physiological signals can be acquired.\n",
    "\n",
    "All the signals that were used in **<span style=\"color:#009EE3\">opensignalstools</span>** notebooks have been collected with **bitalino** or **biosignalsplux**, being this page a resource where relevant characteristics of each acquisition are presented, together with a temporal segment of the signal."
   ]
  },
  {
   "cell_type": "code",
   "execution_count": null,
   "metadata": {
    "tags": [
     "hide_both"
    ]
   },
   "outputs": [],
   "source": [
    "\n",
    "import opensignalstools as ost\n",
    "import numpy\n",
    "\n",
    "# Base packages used in OpenSignals Tools Notebooks for plotting data\n",
    "from bokeh.plotting import figure, output_file, show\n",
    "from bokeh.io import output_notebook\n",
    "from bokeh.layouts import gridplot\n",
    "from bokeh.models.tools import *\n",
    "output_notebook(hide_banner=True)\n"
   ]
  },
  {
   "cell_type": "markdown",
   "metadata": {},
   "source": [
    "<table width='100%'>\n",
    "\t<tr>\n",
    "\t\t<td colspan='2' class='signal_samples_header'>bvp_sample</td>\n",
    "</tr>\n",
    "\t<tr>\n",
    "\t\t<td class='signal_samples_info_keys'>Signal Type</td>\n",
    "\t\t<td class='signal_samples_info_values'>BVP</td>\n",
    "\t</tr>\n",
    "\t<tr>\n",
    "\t\t<td class='signal_samples_info_keys'>Acquisition Time</td>\n",
    "\t\t<td class='signal_samples_info_values'>00:27.3</td>\n",
    "\t</tr>\n",
    "\t<tr>\n",
    "\t\t<td class='signal_samples_info_keys'>Sample Rate</td>\n",
    "\t\t<td class='signal_samples_info_values'>1000 Hz</td>\n",
    "\t</tr>\n",
    "\t<tr>\n",
    "\t\t<td class='signal_samples_info_keys'>Number of Channels</td>\n",
    "\t\t<td class='signal_samples_info_values'>1</td>\n",
    "\t</tr>\n",
    "\t<tr>\n",
    "\t\t<td class='signal_samples_info_keys'>Resolutions</td>\n",
    "\t\t<td class='signal_samples_info_values'>16 bits</td>\n",
    "\t</tr>\n",
    "\t<tr>\n",
    "\t\t<td class='signal_samples_info_keys'>Observations</td>\n",
    "\t\t<td class='signal_samples_info_values'>At Rest</td>\n",
    "\t</tr>\n",
    "</table>"
   ]
  },
  {
   "cell_type": "code",
   "execution_count": null,
   "metadata": {
    "tags": [
     "hide_in"
    ]
   },
   "outputs": [],
   "source": [
    "signal_dict, file_header = ost.load_data(\"C:/Users/gui_s/Documents/Trabalho_na_Plux/opensignalstools/generate_signal_samples_page/signal_samples/\" + \"bvp_sample.txt\", get_header=True)\n",
    "mac_addresses = list(signal_dict.keys())\n",
    "\n",
    "mac_0 = mac_addresses[0]\n",
    "chn_0 = list(signal_dict[mac_0].keys())[0]\n",
    "sample_rate = file_header[mac_0][\"sampling rate\"]\n",
    "time = numpy.linspace(0, len(signal_dict[mac_0][chn_0]) / sample_rate,\n",
    "                      len(signal_dict[mac_0][chn_0]))\n",
    "grid_layout = []\n",
    "for mac in mac_addresses:\n",
    "    channels = list(signal_dict[mac].keys())\n",
    "    for chn in channels:\n",
    "        fig = figure(x_axis_label='Time (s)', y_axis_label='Raw Data',\n",
    "                     title=mac + \"@\" + chn, **ost.opensignals_kwargs(\"figure\"))\n",
    "        fig.line(time, signal_dict[mac][chn],\n",
    "                 **ost.opensignals_kwargs(\"line\"))\n",
    "        grid_layout.append([fig])\n",
    "ost.opensignals_style([item for sublist in grid_layout for item in sublist])\n",
    "grid_plot = gridplot(grid_layout, **ost.opensignals_kwargs(\"gridplot\"))\n",
    "show(grid_plot)"
   ]
  },
  {
   "cell_type": "markdown",
   "metadata": {},
   "source": [
    "<table width='100%'>\n",
    "\t<tr>\n",
    "\t\t<td colspan='2' class='signal_samples_header'>ecg_4000_Hz</td>\n",
    "</tr>\n",
    "\t<tr>\n",
    "\t\t<td class='signal_samples_info_keys'>Signal Type</td>\n",
    "\t\t<td class='signal_samples_info_values'>ECG</td>\n",
    "\t</tr>\n",
    "\t<tr>\n",
    "\t\t<td class='signal_samples_info_keys'>Acquisition Time</td>\n",
    "\t\t<td class='signal_samples_info_values'>00:12.4</td>\n",
    "\t</tr>\n",
    "\t<tr>\n",
    "\t\t<td class='signal_samples_info_keys'>Sample Rate</td>\n",
    "\t\t<td class='signal_samples_info_values'>4000 Hz</td>\n",
    "\t</tr>\n",
    "\t<tr>\n",
    "\t\t<td class='signal_samples_info_keys'>Number of Channels</td>\n",
    "\t\t<td class='signal_samples_info_values'>1</td>\n",
    "\t</tr>\n",
    "\t<tr>\n",
    "\t\t<td class='signal_samples_info_keys'>Resolutions</td>\n",
    "\t\t<td class='signal_samples_info_values'>16 bits</td>\n",
    "\t</tr>\n",
    "\t<tr>\n",
    "\t\t<td class='signal_samples_info_keys'>Observations</td>\n",
    "\t\t<td class='signal_samples_info_values'>At Rest</td>\n",
    "\t</tr>\n",
    "</table>"
   ]
  },
  {
   "cell_type": "code",
   "execution_count": null,
   "metadata": {
    "tags": [
     "hide_in"
    ]
   },
   "outputs": [],
   "source": [
    "signal_dict, file_header = ost.load_data(\"C:/Users/gui_s/Documents/Trabalho_na_Plux/opensignalstools/generate_signal_samples_page/signal_samples/\" + \"ecg_4000_Hz.h5\", get_header=True)\n",
    "mac_addresses = list(signal_dict.keys())\n",
    "\n",
    "mac_0 = mac_addresses[0]\n",
    "chn_0 = list(signal_dict[mac_0].keys())[0]\n",
    "sample_rate = file_header[mac_0][\"sampling rate\"]\n",
    "time = numpy.linspace(0, len(signal_dict[mac_0][chn_0]) / sample_rate,\n",
    "                      len(signal_dict[mac_0][chn_0]))\n",
    "grid_layout = []\n",
    "for mac in mac_addresses:\n",
    "    channels = list(signal_dict[mac].keys())\n",
    "    for chn in channels:\n",
    "        fig = figure(x_axis_label='Time (s)', y_axis_label='Raw Data',\n",
    "                     title=mac + \"@\" + chn, **ost.opensignals_kwargs(\"figure\"))\n",
    "        fig.line(time, signal_dict[mac][chn],\n",
    "                 **ost.opensignals_kwargs(\"line\"))\n",
    "        grid_layout.append([fig])\n",
    "ost.opensignals_style([item for sublist in grid_layout for item in sublist])\n",
    "grid_plot = gridplot(grid_layout, **ost.opensignals_kwargs(\"gridplot\"))\n",
    "show(grid_plot)"
   ]
  },
  {
   "cell_type": "markdown",
   "metadata": {},
   "source": [
    "<table width='100%'>\n",
    "\t<tr>\n",
    "\t\t<td colspan='2' class='signal_samples_header'>ecg_5_min</td>\n",
    "</tr>\n",
    "\t<tr>\n",
    "\t\t<td class='signal_samples_info_keys'>Signal Type</td>\n",
    "\t\t<td class='signal_samples_info_values'>ECG</td>\n",
    "\t</tr>\n",
    "\t<tr>\n",
    "\t\t<td class='signal_samples_info_keys'>Acquisition Time</td>\n",
    "\t\t<td class='signal_samples_info_values'>05:00.0</td>\n",
    "\t</tr>\n",
    "\t<tr>\n",
    "\t\t<td class='signal_samples_info_keys'>Sample Rate</td>\n",
    "\t\t<td class='signal_samples_info_values'>1000 Hz</td>\n",
    "\t</tr>\n",
    "\t<tr>\n",
    "\t\t<td class='signal_samples_info_keys'>Number of Channels</td>\n",
    "\t\t<td class='signal_samples_info_values'>1</td>\n",
    "\t</tr>\n",
    "\t<tr>\n",
    "\t\t<td class='signal_samples_info_keys'>Resolutions</td>\n",
    "\t\t<td class='signal_samples_info_values'>16 bits</td>\n",
    "\t</tr>\n",
    "\t<tr>\n",
    "\t\t<td class='signal_samples_info_keys'>Observations</td>\n",
    "\t\t<td class='signal_samples_info_values'>At Rest</td>\n",
    "\t</tr>\n",
    "</table>"
   ]
  },
  {
   "cell_type": "code",
   "execution_count": null,
   "metadata": {
    "tags": [
     "hide_in"
    ]
   },
   "outputs": [],
   "source": [
    "signal_dict, file_header = ost.load_data(\"C:/Users/gui_s/Documents/Trabalho_na_Plux/opensignalstools/generate_signal_samples_page/signal_samples/\" + \"ecg_5_min.h5\", get_header=True)\n",
    "mac_addresses = list(signal_dict.keys())\n",
    "\n",
    "mac_0 = mac_addresses[0]\n",
    "chn_0 = list(signal_dict[mac_0].keys())[0]\n",
    "sample_rate = file_header[mac_0][\"sampling rate\"]\n",
    "time = numpy.linspace(0, len(signal_dict[mac_0][chn_0]) / sample_rate,\n",
    "                      len(signal_dict[mac_0][chn_0]))\n",
    "grid_layout = []\n",
    "for mac in mac_addresses:\n",
    "    channels = list(signal_dict[mac].keys())\n",
    "    for chn in channels:\n",
    "        fig = figure(x_axis_label='Time (s)', y_axis_label='Raw Data',\n",
    "                     title=mac + \"@\" + chn, **ost.opensignals_kwargs(\"figure\"))\n",
    "        fig.line(time, signal_dict[mac][chn],\n",
    "                 **ost.opensignals_kwargs(\"line\"))\n",
    "        grid_layout.append([fig])\n",
    "ost.opensignals_style([item for sublist in grid_layout for item in sublist])\n",
    "grid_plot = gridplot(grid_layout, **ost.opensignals_kwargs(\"gridplot\"))\n",
    "show(grid_plot)"
   ]
  },
  {
   "cell_type": "markdown",
   "metadata": {},
   "source": [
    "<table width='100%'>\n",
    "\t<tr>\n",
    "\t\t<td colspan='2' class='signal_samples_header'>ecg_sample</td>\n",
    "</tr>\n",
    "\t<tr>\n",
    "\t\t<td class='signal_samples_info_keys'>Signal Type</td>\n",
    "\t\t<td class='signal_samples_info_values'>ECG</td>\n",
    "\t</tr>\n",
    "\t<tr>\n",
    "\t\t<td class='signal_samples_info_keys'>Acquisition Time</td>\n",
    "\t\t<td class='signal_samples_info_values'>00:11.9</td>\n",
    "\t</tr>\n",
    "\t<tr>\n",
    "\t\t<td class='signal_samples_info_keys'>Sample Rate</td>\n",
    "\t\t<td class='signal_samples_info_values'>200 Hz</td>\n",
    "\t</tr>\n",
    "\t<tr>\n",
    "\t\t<td class='signal_samples_info_keys'>Number of Channels</td>\n",
    "\t\t<td class='signal_samples_info_values'>1</td>\n",
    "\t</tr>\n",
    "\t<tr>\n",
    "\t\t<td class='signal_samples_info_keys'>Resolutions</td>\n",
    "\t\t<td class='signal_samples_info_values'>16 bits</td>\n",
    "\t</tr>\n",
    "\t<tr>\n",
    "\t\t<td class='signal_samples_info_keys'>Observations</td>\n",
    "\t\t<td class='signal_samples_info_values'>At Rest</td>\n",
    "\t</tr>\n",
    "</table>"
   ]
  },
  {
   "cell_type": "code",
   "execution_count": null,
   "metadata": {
    "tags": [
     "hide_in"
    ]
   },
   "outputs": [],
   "source": [
    "signal_dict, file_header = ost.load_data(\"C:/Users/gui_s/Documents/Trabalho_na_Plux/opensignalstools/generate_signal_samples_page/signal_samples/\" + \"ecg_sample.h5\", get_header=True)\n",
    "mac_addresses = list(signal_dict.keys())\n",
    "\n",
    "mac_0 = mac_addresses[0]\n",
    "chn_0 = list(signal_dict[mac_0].keys())[0]\n",
    "sample_rate = file_header[mac_0][\"sampling rate\"]\n",
    "time = numpy.linspace(0, len(signal_dict[mac_0][chn_0]) / sample_rate,\n",
    "                      len(signal_dict[mac_0][chn_0]))\n",
    "grid_layout = []\n",
    "for mac in mac_addresses:\n",
    "    channels = list(signal_dict[mac].keys())\n",
    "    for chn in channels:\n",
    "        fig = figure(x_axis_label='Time (s)', y_axis_label='Raw Data',\n",
    "                     title=mac + \"@\" + chn, **ost.opensignals_kwargs(\"figure\"))\n",
    "        fig.line(time, signal_dict[mac][chn],\n",
    "                 **ost.opensignals_kwargs(\"line\"))\n",
    "        grid_layout.append([fig])\n",
    "ost.opensignals_style([item for sublist in grid_layout for item in sublist])\n",
    "grid_plot = gridplot(grid_layout, **ost.opensignals_kwargs(\"gridplot\"))\n",
    "show(grid_plot)"
   ]
  },
  {
   "cell_type": "markdown",
   "metadata": {},
   "source": [
    "<table width='100%'>\n",
    "\t<tr>\n",
    "\t\t<td colspan='2' class='signal_samples_header'>emg_bursts</td>\n",
    "</tr>\n",
    "\t<tr>\n",
    "\t\t<td class='signal_samples_info_keys'>Signal Type</td>\n",
    "\t\t<td class='signal_samples_info_values'>EMG</td>\n",
    "\t</tr>\n",
    "\t<tr>\n",
    "\t\t<td class='signal_samples_info_keys'>Acquisition Time</td>\n",
    "\t\t<td class='signal_samples_info_values'>00:28.5</td>\n",
    "\t</tr>\n",
    "\t<tr>\n",
    "\t\t<td class='signal_samples_info_keys'>Sample Rate</td>\n",
    "\t\t<td class='signal_samples_info_values'>1000 Hz</td>\n",
    "\t</tr>\n",
    "\t<tr>\n",
    "\t\t<td class='signal_samples_info_keys'>Number of Channels</td>\n",
    "\t\t<td class='signal_samples_info_values'>1</td>\n",
    "\t</tr>\n",
    "\t<tr>\n",
    "\t\t<td class='signal_samples_info_keys'>Resolutions</td>\n",
    "\t\t<td class='signal_samples_info_values'>16 bits</td>\n",
    "\t</tr>\n",
    "\t<tr>\n",
    "\t\t<td class='signal_samples_info_keys'>Observations</td>\n",
    "\t\t<td class='signal_samples_info_values'>Cyclic contractions of Biceps Brachii</td>\n",
    "\t</tr>\n",
    "</table>"
   ]
  },
  {
   "cell_type": "code",
   "execution_count": null,
   "metadata": {
    "tags": [
     "hide_in"
    ]
   },
   "outputs": [],
   "source": [
    "signal_dict, file_header = ost.load_data(\"C:/Users/gui_s/Documents/Trabalho_na_Plux/opensignalstools/generate_signal_samples_page/signal_samples/\" + \"emg_bursts.h5\", get_header=True)\n",
    "mac_addresses = list(signal_dict.keys())\n",
    "\n",
    "mac_0 = mac_addresses[0]\n",
    "chn_0 = list(signal_dict[mac_0].keys())[0]\n",
    "sample_rate = file_header[mac_0][\"sampling rate\"]\n",
    "time = numpy.linspace(0, len(signal_dict[mac_0][chn_0]) / sample_rate,\n",
    "                      len(signal_dict[mac_0][chn_0]))\n",
    "grid_layout = []\n",
    "for mac in mac_addresses:\n",
    "    channels = list(signal_dict[mac].keys())\n",
    "    for chn in channels:\n",
    "        fig = figure(x_axis_label='Time (s)', y_axis_label='Raw Data',\n",
    "                     title=mac + \"@\" + chn, **ost.opensignals_kwargs(\"figure\"))\n",
    "        fig.line(time, signal_dict[mac][chn],\n",
    "                 **ost.opensignals_kwargs(\"line\"))\n",
    "        grid_layout.append([fig])\n",
    "ost.opensignals_style([item for sublist in grid_layout for item in sublist])\n",
    "grid_plot = gridplot(grid_layout, **ost.opensignals_kwargs(\"gridplot\"))\n",
    "show(grid_plot)"
   ]
  },
  {
   "cell_type": "markdown",
   "metadata": {},
   "source": [
    "<table width='100%'>\n",
    "\t<tr>\n",
    "\t\t<td colspan='2' class='signal_samples_header'>emg_fatigue</td>\n",
    "</tr>\n",
    "\t<tr>\n",
    "\t\t<td class='signal_samples_info_keys'>Signal Type</td>\n",
    "\t\t<td class='signal_samples_info_values'>EMG</td>\n",
    "\t</tr>\n",
    "\t<tr>\n",
    "\t\t<td class='signal_samples_info_keys'>Acquisition Time</td>\n",
    "\t\t<td class='signal_samples_info_values'>02:06.9</td>\n",
    "\t</tr>\n",
    "\t<tr>\n",
    "\t\t<td class='signal_samples_info_keys'>Sample Rate</td>\n",
    "\t\t<td class='signal_samples_info_values'>1000 Hz</td>\n",
    "\t</tr>\n",
    "\t<tr>\n",
    "\t\t<td class='signal_samples_info_keys'>Number of Channels</td>\n",
    "\t\t<td class='signal_samples_info_values'>1</td>\n",
    "\t</tr>\n",
    "\t<tr>\n",
    "\t\t<td class='signal_samples_info_keys'>Resolutions</td>\n",
    "\t\t<td class='signal_samples_info_values'>16 bits</td>\n",
    "\t</tr>\n",
    "\t<tr>\n",
    "\t\t<td class='signal_samples_info_keys'>Observations</td>\n",
    "\t\t<td class='signal_samples_info_values'>Cyclic flexion and extension of Biceps Brachii for fatigue induction</td>\n",
    "\t</tr>\n",
    "</table>"
   ]
  },
  {
   "cell_type": "code",
   "execution_count": null,
   "metadata": {
    "tags": [
     "hide_in"
    ]
   },
   "outputs": [],
   "source": [
    "signal_dict, file_header = ost.load_data(\"C:/Users/gui_s/Documents/Trabalho_na_Plux/opensignalstools/generate_signal_samples_page/signal_samples/\" + \"emg_fatigue.h5\", get_header=True)\n",
    "mac_addresses = list(signal_dict.keys())\n",
    "\n",
    "mac_0 = mac_addresses[0]\n",
    "chn_0 = list(signal_dict[mac_0].keys())[0]\n",
    "sample_rate = file_header[mac_0][\"sampling rate\"]\n",
    "time = numpy.linspace(0, len(signal_dict[mac_0][chn_0]) / sample_rate,\n",
    "                      len(signal_dict[mac_0][chn_0]))\n",
    "grid_layout = []\n",
    "for mac in mac_addresses:\n",
    "    channels = list(signal_dict[mac].keys())\n",
    "    for chn in channels:\n",
    "        fig = figure(x_axis_label='Time (s)', y_axis_label='Raw Data',\n",
    "                     title=mac + \"@\" + chn, **ost.opensignals_kwargs(\"figure\"))\n",
    "        fig.line(time, signal_dict[mac][chn],\n",
    "                 **ost.opensignals_kwargs(\"line\"))\n",
    "        grid_layout.append([fig])\n",
    "ost.opensignals_style([item for sublist in grid_layout for item in sublist])\n",
    "grid_plot = gridplot(grid_layout, **ost.opensignals_kwargs(\"gridplot\"))\n",
    "show(grid_plot)"
   ]
  },
  {
   "cell_type": "markdown",
   "metadata": {},
   "source": [
    "<table width='100%'>\n",
    "\t<tr>\n",
    "\t\t<td colspan='2' class='signal_samples_header'>temp_res_8_16</td>\n",
    "</tr>\n",
    "\t<tr>\n",
    "\t\t<td class='signal_samples_info_keys'>Signal Type</td>\n",
    "\t\t<td class='signal_samples_info_values'>Temperature</td>\n",
    "\t</tr>\n",
    "\t<tr>\n",
    "\t\t<td class='signal_samples_info_keys'>Acquisition Time</td>\n",
    "\t\t<td class='signal_samples_info_values'>03:53.1</td>\n",
    "\t</tr>\n",
    "\t<tr>\n",
    "\t\t<td class='signal_samples_info_keys'>Sample Rate</td>\n",
    "\t\t<td class='signal_samples_info_values'>1000 Hz</td>\n",
    "\t</tr>\n",
    "\t<tr>\n",
    "\t\t<td class='signal_samples_info_keys'>Number of Channels</td>\n",
    "\t\t<td class='signal_samples_info_values'>2</td>\n",
    "\t</tr>\n",
    "\t<tr>\n",
    "\t\t<td class='signal_samples_info_keys'>Resolutions</td>\n",
    "\t\t<td class='signal_samples_info_values'>8 and 16 bits</td>\n",
    "\t</tr>\n",
    "\t<tr>\n",
    "\t\t<td class='signal_samples_info_keys'>Observations</td>\n",
    "\t\t<td class='signal_samples_info_values'>Temperature increase with a gradual decrease in  the middle of acquisition</td>\n",
    "\t</tr>\n",
    "</table>"
   ]
  },
  {
   "cell_type": "code",
   "execution_count": null,
   "metadata": {
    "tags": [
     "hide_in"
    ]
   },
   "outputs": [],
   "source": [
    "signal_dict, file_header = ost.load_data(\"C:/Users/gui_s/Documents/Trabalho_na_Plux/opensignalstools/generate_signal_samples_page/signal_samples/\" + \"temp_res_8_16.h5\", get_header=True)\n",
    "mac_addresses = list(signal_dict.keys())\n",
    "\n",
    "mac_0 = mac_addresses[0]\n",
    "chn_0 = list(signal_dict[mac_0].keys())[0]\n",
    "sample_rate = file_header[mac_0][\"sampling rate\"]\n",
    "time = numpy.linspace(0, len(signal_dict[mac_0][chn_0]) / sample_rate,\n",
    "                      len(signal_dict[mac_0][chn_0]))\n",
    "grid_layout = []\n",
    "for mac in mac_addresses:\n",
    "    channels = list(signal_dict[mac].keys())\n",
    "    for chn in channels:\n",
    "        fig = figure(x_axis_label='Time (s)', y_axis_label='Raw Data',\n",
    "                     title=mac + \"@\" + chn, **ost.opensignals_kwargs(\"figure\"))\n",
    "        fig.line(time, signal_dict[mac][chn],\n",
    "                 **ost.opensignals_kwargs(\"line\"))\n",
    "        grid_layout.append([fig])\n",
    "ost.opensignals_style([item for sublist in grid_layout for item in sublist])\n",
    "grid_plot = gridplot(grid_layout, **ost.opensignals_kwargs(\"gridplot\"))\n",
    "show(grid_plot)"
   ]
  },
  {
   "cell_type": "markdown",
   "metadata": {
    "tags": [
     "footer"
    ]
   },
   "source": [
    "<table width=\"100%\">\n",
    "    <tr>\n",
    "        <td style=\"border-right:solid 3px #009EE3\" width=\"30%\">\n",
    "            <img src=\"../../images/ost_logo.png\">\n",
    "        </td>\n",
    "        <td width=\"70%\" style=\"text-align:left\">\n",
    "            <a href=\"../MainFiles/opensignalstools.ipynb\">&#9740; GitHub Repository</a>\n",
    "            <br>\n",
    "            <a href=\"../MainFiles/opensignalstools.ipynb\">&#9740; Notebook Categories</a>\n",
    "            <br>\n",
    "            <a href=\"../MainFiles/opensignalstools.ipynb\">&#9740; How to install opensignalstools Python package ?</a>\n",
    "        </td>\n",
    "    </tr>\n",
    "</table>"
   ]
  },
  {
   "cell_type": "markdown",
   "metadata": {
    "tags": [
     "hide_mark"
    ]
   },
   "source": [
    "<span class=\"color6\">**Auxiliary Code Segment (should not be replicated by\n",
    "the user)**</span>"
   ]
  },
  {
   "cell_type": "code",
   "execution_count": null,
   "metadata": {
    "tags": [
     "hide_both"
    ]
   },
   "outputs": [],
   "source": [
    "from opensignalstools.__notebook_support__ import css_style_apply\n",
    "css_style_apply()"
   ]
  }
 ],
 "metadata": {
  "kernelspec": {
   "display_name": "Python 3",
   "language": "python",
   "name": "python3"
  },
  "language_info": {
   "codemirror_mode": {
    "name": "ipython",
    "version": 3
   },
   "file_extension": ".py",
   "mimetype": "text/x-python",
   "name": "python",
   "nbconvert_exporter": "python",
   "pygments_lexer": "ipython3",
   "version": "3.6.2rc1"
  }
 },
 "nbformat": 4,
 "nbformat_minor": 2
}
